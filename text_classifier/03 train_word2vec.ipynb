{
 "cells": [
  {
   "cell_type": "code",
   "execution_count": 1,
   "metadata": {
    "ExecuteTime": {
     "end_time": "2019-07-31T03:49:28.927699Z",
     "start_time": "2019-07-31T03:49:28.517168Z"
    }
   },
   "outputs": [],
   "source": [
    "import logging\n",
    "import gensim\n",
    "from gensim.models.word2vec import Word2Vec, LineSentence\n",
    "\n",
    "import pandas as pd "
   ]
  },
  {
   "cell_type": "markdown",
   "metadata": {},
   "source": [
    "# 训练yelps的词向量"
   ]
  },
  {
   "cell_type": "code",
   "execution_count": 11,
   "metadata": {
    "ExecuteTime": {
     "end_time": "2019-07-31T03:38:49.725232Z",
     "start_time": "2019-07-31T03:38:44.483345Z"
    }
   },
   "outputs": [],
   "source": [
    "yelps_train = pd.read_csv(\"../data/yelps/yelps_train_fasttext.txt\", sep=\"\\t\", lineterminator=\"\\n\", header=None,\n",
    "                         names=[\"review\", \"emotion\"])"
   ]
  },
  {
   "cell_type": "code",
   "execution_count": 12,
   "metadata": {
    "ExecuteTime": {
     "end_time": "2019-07-31T03:38:50.215951Z",
     "start_time": "2019-07-31T03:38:50.208406Z"
    }
   },
   "outputs": [
    {
     "data": {
      "text/html": [
       "<div>\n",
       "<style scoped>\n",
       "    .dataframe tbody tr th:only-of-type {\n",
       "        vertical-align: middle;\n",
       "    }\n",
       "\n",
       "    .dataframe tbody tr th {\n",
       "        vertical-align: top;\n",
       "    }\n",
       "\n",
       "    .dataframe thead th {\n",
       "        text-align: right;\n",
       "    }\n",
       "</style>\n",
       "<table border=\"1\" class=\"dataframe\">\n",
       "  <thead>\n",
       "    <tr style=\"text-align: right;\">\n",
       "      <th></th>\n",
       "      <th>review</th>\n",
       "      <th>emotion</th>\n",
       "    </tr>\n",
       "  </thead>\n",
       "  <tbody>\n",
       "    <tr>\n",
       "      <th>0</th>\n",
       "      <td>Big Juicy Gourmet Burger melted cheese bacon c...</td>\n",
       "      <td>__label__pos</td>\n",
       "    </tr>\n",
       "    <tr>\n",
       "      <th>1</th>\n",
       "      <td>I even give place star ! If friend make fall b...</td>\n",
       "      <td>__label__neg</td>\n",
       "    </tr>\n",
       "    <tr>\n",
       "      <th>2</th>\n",
       "      <td>Great food , excellent service . Overall aweso...</td>\n",
       "      <td>__label__pos</td>\n",
       "    </tr>\n",
       "    <tr>\n",
       "      <th>3</th>\n",
       "      <td>This place deserves star ! I going Draft year ...</td>\n",
       "      <td>__label__pos</td>\n",
       "    </tr>\n",
       "    <tr>\n",
       "      <th>4</th>\n",
       "      <td>We walked Casino Pirates game try Andrews . Bo...</td>\n",
       "      <td>__label__neg</td>\n",
       "    </tr>\n",
       "  </tbody>\n",
       "</table>\n",
       "</div>"
      ],
      "text/plain": [
       "                                              review       emotion\n",
       "0  Big Juicy Gourmet Burger melted cheese bacon c...  __label__pos\n",
       "1  I even give place star ! If friend make fall b...  __label__neg\n",
       "2  Great food , excellent service . Overall aweso...  __label__pos\n",
       "3  This place deserves star ! I going Draft year ...  __label__pos\n",
       "4  We walked Casino Pirates game try Andrews . Bo...  __label__neg"
      ]
     },
     "execution_count": 12,
     "metadata": {},
     "output_type": "execute_result"
    }
   ],
   "source": [
    "yelps_train.head()"
   ]
  },
  {
   "cell_type": "code",
   "execution_count": 13,
   "metadata": {
    "ExecuteTime": {
     "end_time": "2019-07-31T03:40:26.520089Z",
     "start_time": "2019-07-31T03:40:25.991319Z"
    }
   },
   "outputs": [],
   "source": [
    "yelps_train['emotion'] = yelps_train['emotion'].apply(lambda s: 1 if s[-3:]==\"pos\" else 0)"
   ]
  },
  {
   "cell_type": "code",
   "execution_count": 14,
   "metadata": {
    "ExecuteTime": {
     "end_time": "2019-07-31T03:40:30.296988Z",
     "start_time": "2019-07-31T03:40:30.290107Z"
    }
   },
   "outputs": [
    {
     "data": {
      "text/html": [
       "<div>\n",
       "<style scoped>\n",
       "    .dataframe tbody tr th:only-of-type {\n",
       "        vertical-align: middle;\n",
       "    }\n",
       "\n",
       "    .dataframe tbody tr th {\n",
       "        vertical-align: top;\n",
       "    }\n",
       "\n",
       "    .dataframe thead th {\n",
       "        text-align: right;\n",
       "    }\n",
       "</style>\n",
       "<table border=\"1\" class=\"dataframe\">\n",
       "  <thead>\n",
       "    <tr style=\"text-align: right;\">\n",
       "      <th></th>\n",
       "      <th>review</th>\n",
       "      <th>emotion</th>\n",
       "    </tr>\n",
       "  </thead>\n",
       "  <tbody>\n",
       "    <tr>\n",
       "      <th>0</th>\n",
       "      <td>Big Juicy Gourmet Burger melted cheese bacon c...</td>\n",
       "      <td>1</td>\n",
       "    </tr>\n",
       "    <tr>\n",
       "      <th>1</th>\n",
       "      <td>I even give place star ! If friend make fall b...</td>\n",
       "      <td>0</td>\n",
       "    </tr>\n",
       "    <tr>\n",
       "      <th>2</th>\n",
       "      <td>Great food , excellent service . Overall aweso...</td>\n",
       "      <td>1</td>\n",
       "    </tr>\n",
       "    <tr>\n",
       "      <th>3</th>\n",
       "      <td>This place deserves star ! I going Draft year ...</td>\n",
       "      <td>1</td>\n",
       "    </tr>\n",
       "    <tr>\n",
       "      <th>4</th>\n",
       "      <td>We walked Casino Pirates game try Andrews . Bo...</td>\n",
       "      <td>0</td>\n",
       "    </tr>\n",
       "  </tbody>\n",
       "</table>\n",
       "</div>"
      ],
      "text/plain": [
       "                                              review  emotion\n",
       "0  Big Juicy Gourmet Burger melted cheese bacon c...        1\n",
       "1  I even give place star ! If friend make fall b...        0\n",
       "2  Great food , excellent service . Overall aweso...        1\n",
       "3  This place deserves star ! I going Draft year ...        1\n",
       "4  We walked Casino Pirates game try Andrews . Bo...        0"
      ]
     },
     "execution_count": 14,
     "metadata": {},
     "output_type": "execute_result"
    }
   ],
   "source": [
    "yelps_train.head()"
   ]
  },
  {
   "cell_type": "code",
   "execution_count": 15,
   "metadata": {
    "ExecuteTime": {
     "end_time": "2019-07-31T03:41:30.874457Z",
     "start_time": "2019-07-31T03:41:27.301976Z"
    }
   },
   "outputs": [],
   "source": [
    "yelps_test = pd.read_csv(\"../data/yelps/yelps_test_fasttext.txt\", sep=\"\\t\", lineterminator=\"\\n\", header=None, \n",
    "                        names=[\"review\", \"emotion\"])"
   ]
  },
  {
   "cell_type": "code",
   "execution_count": 16,
   "metadata": {
    "ExecuteTime": {
     "end_time": "2019-07-31T03:41:33.583767Z",
     "start_time": "2019-07-31T03:41:33.578334Z"
    }
   },
   "outputs": [
    {
     "data": {
      "text/html": [
       "<div>\n",
       "<style scoped>\n",
       "    .dataframe tbody tr th:only-of-type {\n",
       "        vertical-align: middle;\n",
       "    }\n",
       "\n",
       "    .dataframe tbody tr th {\n",
       "        vertical-align: top;\n",
       "    }\n",
       "\n",
       "    .dataframe thead th {\n",
       "        text-align: right;\n",
       "    }\n",
       "</style>\n",
       "<table border=\"1\" class=\"dataframe\">\n",
       "  <thead>\n",
       "    <tr style=\"text-align: right;\">\n",
       "      <th></th>\n",
       "      <th>review</th>\n",
       "      <th>emotion</th>\n",
       "    </tr>\n",
       "  </thead>\n",
       "  <tbody>\n",
       "    <tr>\n",
       "      <th>0</th>\n",
       "      <td>My fav Thai take yum always fresh always deliv...</td>\n",
       "      <td>__label__pos</td>\n",
       "    </tr>\n",
       "    <tr>\n",
       "      <th>1</th>\n",
       "      <td>love , lovemultiStoplove tj ismultiExclamation...</td>\n",
       "      <td>__label__pos</td>\n",
       "    </tr>\n",
       "    <tr>\n",
       "      <th>2</th>\n",
       "      <td>Hi name Sean I recently accident two week Chri...</td>\n",
       "      <td>__label__pos</td>\n",
       "    </tr>\n",
       "    <tr>\n",
       "      <th>3</th>\n",
       "      <td>So I come place time . The bartender usually a...</td>\n",
       "      <td>__label__neg</td>\n",
       "    </tr>\n",
       "    <tr>\n",
       "      <th>4</th>\n",
       "      <td>The food okay really service vibe place kind b...</td>\n",
       "      <td>__label__neg</td>\n",
       "    </tr>\n",
       "  </tbody>\n",
       "</table>\n",
       "</div>"
      ],
      "text/plain": [
       "                                              review       emotion\n",
       "0  My fav Thai take yum always fresh always deliv...  __label__pos\n",
       "1  love , lovemultiStoplove tj ismultiExclamation...  __label__pos\n",
       "2  Hi name Sean I recently accident two week Chri...  __label__pos\n",
       "3  So I come place time . The bartender usually a...  __label__neg\n",
       "4  The food okay really service vibe place kind b...  __label__neg"
      ]
     },
     "execution_count": 16,
     "metadata": {},
     "output_type": "execute_result"
    }
   ],
   "source": [
    "yelps_test.head()"
   ]
  },
  {
   "cell_type": "code",
   "execution_count": 17,
   "metadata": {
    "ExecuteTime": {
     "end_time": "2019-07-31T03:42:29.310846Z",
     "start_time": "2019-07-31T03:42:29.100212Z"
    }
   },
   "outputs": [],
   "source": [
    "yelps_test['emotion'] = yelps_test['emotion'].apply(lambda s: 1 if s[-3:]==\"pos\" else 0)"
   ]
  },
  {
   "cell_type": "code",
   "execution_count": 18,
   "metadata": {
    "ExecuteTime": {
     "end_time": "2019-07-31T03:42:34.751997Z",
     "start_time": "2019-07-31T03:42:34.746242Z"
    }
   },
   "outputs": [
    {
     "data": {
      "text/html": [
       "<div>\n",
       "<style scoped>\n",
       "    .dataframe tbody tr th:only-of-type {\n",
       "        vertical-align: middle;\n",
       "    }\n",
       "\n",
       "    .dataframe tbody tr th {\n",
       "        vertical-align: top;\n",
       "    }\n",
       "\n",
       "    .dataframe thead th {\n",
       "        text-align: right;\n",
       "    }\n",
       "</style>\n",
       "<table border=\"1\" class=\"dataframe\">\n",
       "  <thead>\n",
       "    <tr style=\"text-align: right;\">\n",
       "      <th></th>\n",
       "      <th>review</th>\n",
       "      <th>emotion</th>\n",
       "    </tr>\n",
       "  </thead>\n",
       "  <tbody>\n",
       "    <tr>\n",
       "      <th>0</th>\n",
       "      <td>My fav Thai take yum always fresh always deliv...</td>\n",
       "      <td>1</td>\n",
       "    </tr>\n",
       "    <tr>\n",
       "      <th>1</th>\n",
       "      <td>love , lovemultiStoplove tj ismultiExclamation...</td>\n",
       "      <td>1</td>\n",
       "    </tr>\n",
       "    <tr>\n",
       "      <th>2</th>\n",
       "      <td>Hi name Sean I recently accident two week Chri...</td>\n",
       "      <td>1</td>\n",
       "    </tr>\n",
       "    <tr>\n",
       "      <th>3</th>\n",
       "      <td>So I come place time . The bartender usually a...</td>\n",
       "      <td>0</td>\n",
       "    </tr>\n",
       "    <tr>\n",
       "      <th>4</th>\n",
       "      <td>The food okay really service vibe place kind b...</td>\n",
       "      <td>0</td>\n",
       "    </tr>\n",
       "  </tbody>\n",
       "</table>\n",
       "</div>"
      ],
      "text/plain": [
       "                                              review  emotion\n",
       "0  My fav Thai take yum always fresh always deliv...        1\n",
       "1  love , lovemultiStoplove tj ismultiExclamation...        1\n",
       "2  Hi name Sean I recently accident two week Chri...        1\n",
       "3  So I come place time . The bartender usually a...        0\n",
       "4  The food okay really service vibe place kind b...        0"
      ]
     },
     "execution_count": 18,
     "metadata": {},
     "output_type": "execute_result"
    }
   ],
   "source": [
    "yelps_test.head()"
   ]
  },
  {
   "cell_type": "code",
   "execution_count": 19,
   "metadata": {
    "ExecuteTime": {
     "end_time": "2019-07-31T03:44:34.649582Z",
     "start_time": "2019-07-31T03:44:34.500582Z"
    }
   },
   "outputs": [],
   "source": [
    "# 保存成训练word2vec的句子\n",
    "new_df = pd.concat([yelps_train['review'], yelps_test['review']], axis=0)"
   ]
  },
  {
   "cell_type": "code",
   "execution_count": 20,
   "metadata": {
    "ExecuteTime": {
     "end_time": "2019-07-31T03:45:59.672730Z",
     "start_time": "2019-07-31T03:45:47.961075Z"
    }
   },
   "outputs": [],
   "source": [
    "new_df.to_csv(\"../data/yelps/word2vec.txt\", header=False, index=False)"
   ]
  },
  {
   "cell_type": "code",
   "execution_count": 22,
   "metadata": {
    "ExecuteTime": {
     "end_time": "2019-07-31T03:47:09.859598Z",
     "start_time": "2019-07-31T03:47:00.902033Z"
    }
   },
   "outputs": [],
   "source": [
    "yelps_train.to_csv(\"../data/yelps/yelps_train.csv\", index=False)"
   ]
  },
  {
   "cell_type": "code",
   "execution_count": 23,
   "metadata": {
    "ExecuteTime": {
     "end_time": "2019-07-31T03:47:31.796093Z",
     "start_time": "2019-07-31T03:47:27.915059Z"
    }
   },
   "outputs": [],
   "source": [
    "yelps_test.to_csv(\"../data/yelps/yelps_test.csv\", index=False)"
   ]
  },
  {
   "cell_type": "code",
   "execution_count": 2,
   "metadata": {
    "ExecuteTime": {
     "end_time": "2019-07-31T03:49:33.523102Z",
     "start_time": "2019-07-31T03:49:33.517414Z"
    }
   },
   "outputs": [],
   "source": [
    "sentences = LineSentence(\"../data/yelps/word2vec.txt\")"
   ]
  },
  {
   "cell_type": "code",
   "execution_count": 3,
   "metadata": {
    "ExecuteTime": {
     "end_time": "2019-07-31T04:53:38.520121Z",
     "start_time": "2019-07-31T03:50:04.915663Z"
    }
   },
   "outputs": [
    {
     "name": "stderr",
     "output_type": "stream",
     "text": [
      "/home/chen/anaconda3/lib/python3.7/site-packages/smart_open/smart_open_lib.py:398: UserWarning: This function is deprecated, use smart_open.open instead. See the migration notes for details: https://github.com/RaRe-Technologies/smart_open/blob/master/README.rst#migrating-to-the-new-open-function\n",
      "  'See the migration notes for details: %s' % _MIGRATION_NOTES_URL\n"
     ]
    }
   ],
   "source": [
    "model = Word2Vec(sentences, size=200, sg=1, iter=10)"
   ]
  },
  {
   "cell_type": "code",
   "execution_count": 6,
   "metadata": {
    "ExecuteTime": {
     "end_time": "2019-07-31T05:04:32.873294Z",
     "start_time": "2019-07-31T05:04:32.365013Z"
    }
   },
   "outputs": [
    {
     "name": "stderr",
     "output_type": "stream",
     "text": [
      "/home/chen/anaconda3/lib/python3.7/site-packages/smart_open/smart_open_lib.py:398: UserWarning: This function is deprecated, use smart_open.open instead. See the migration notes for details: https://github.com/RaRe-Technologies/smart_open/blob/master/README.rst#migrating-to-the-new-open-function\n",
      "  'See the migration notes for details: %s' % _MIGRATION_NOTES_URL\n"
     ]
    }
   ],
   "source": [
    "model.wv.save_word2vec_format(\"../data/yelps/wordvector.bin\", binary=True)"
   ]
  },
  {
   "cell_type": "markdown",
   "metadata": {},
   "source": [
    "# 训练reviews的word2vec模型"
   ]
  },
  {
   "cell_type": "code",
   "execution_count": 7,
   "metadata": {
    "ExecuteTime": {
     "end_time": "2019-07-31T05:05:05.086008Z",
     "start_time": "2019-07-31T05:05:05.084038Z"
    }
   },
   "outputs": [],
   "source": [
    "sentences = LineSentence(\"../data/imdb/word2vec.txt\")"
   ]
  },
  {
   "cell_type": "code",
   "execution_count": 8,
   "metadata": {
    "ExecuteTime": {
     "end_time": "2019-07-31T05:09:32.312698Z",
     "start_time": "2019-07-31T05:05:21.576006Z"
    }
   },
   "outputs": [
    {
     "name": "stderr",
     "output_type": "stream",
     "text": [
      "/home/chen/anaconda3/lib/python3.7/site-packages/smart_open/smart_open_lib.py:398: UserWarning: This function is deprecated, use smart_open.open instead. See the migration notes for details: https://github.com/RaRe-Technologies/smart_open/blob/master/README.rst#migrating-to-the-new-open-function\n",
      "  'See the migration notes for details: %s' % _MIGRATION_NOTES_URL\n"
     ]
    }
   ],
   "source": [
    "model = Word2Vec(sentences, size=200, sg=1, iter=10)"
   ]
  },
  {
   "cell_type": "code",
   "execution_count": 9,
   "metadata": {
    "ExecuteTime": {
     "end_time": "2019-07-31T05:57:14.469397Z",
     "start_time": "2019-07-31T05:57:14.337581Z"
    }
   },
   "outputs": [],
   "source": [
    "model.wv.save_word2vec_format(\"../data/imdb/wordvector.bin\", binary=True)"
   ]
  },
  {
   "cell_type": "code",
   "execution_count": null,
   "metadata": {},
   "outputs": [],
   "source": []
  }
 ],
 "metadata": {
  "kernelspec": {
   "display_name": "Python 3",
   "language": "python",
   "name": "python3"
  },
  "language_info": {
   "codemirror_mode": {
    "name": "ipython",
    "version": 3
   },
   "file_extension": ".py",
   "mimetype": "text/x-python",
   "name": "python",
   "nbconvert_exporter": "python",
   "pygments_lexer": "ipython3",
   "version": "3.7.3"
  },
  "toc": {
   "base_numbering": 1,
   "nav_menu": {},
   "number_sections": true,
   "sideBar": true,
   "skip_h1_title": false,
   "title_cell": "Table of Contents",
   "title_sidebar": "Contents",
   "toc_cell": false,
   "toc_position": {},
   "toc_section_display": true,
   "toc_window_display": false
  }
 },
 "nbformat": 4,
 "nbformat_minor": 2
}

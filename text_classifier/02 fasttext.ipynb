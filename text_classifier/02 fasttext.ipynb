{
 "cells": [
  {
   "cell_type": "code",
   "execution_count": 1,
   "metadata": {
    "ExecuteTime": {
     "end_time": "2019-07-31T03:27:24.917071Z",
     "start_time": "2019-07-31T03:27:24.447005Z"
    }
   },
   "outputs": [
    {
     "name": "stderr",
     "output_type": "stream",
     "text": [
      "/home/chen/anaconda3/lib/python3.7/importlib/_bootstrap.py:219: RuntimeWarning: numpy.ufunc size changed, may indicate binary incompatibility. Expected 192 from C header, got 216 from PyObject\n",
      "  return f(*args, **kwds)\n",
      "/home/chen/anaconda3/lib/python3.7/importlib/_bootstrap.py:219: RuntimeWarning: numpy.ufunc size changed, may indicate binary incompatibility. Expected 192 from C header, got 216 from PyObject\n",
      "  return f(*args, **kwds)\n",
      "/home/chen/anaconda3/lib/python3.7/importlib/_bootstrap.py:219: RuntimeWarning: numpy.ufunc size changed, may indicate binary incompatibility. Expected 192 from C header, got 216 from PyObject\n",
      "  return f(*args, **kwds)\n"
     ]
    }
   ],
   "source": [
    "import fasttext\n",
    "import pandas as pd \n",
    "import numpy as np \n",
    "import gc \n",
    "import os \n",
    "import nltk"
   ]
  },
  {
   "cell_type": "code",
   "execution_count": 2,
   "metadata": {
    "ExecuteTime": {
     "end_time": "2019-07-31T03:27:24.922897Z",
     "start_time": "2019-07-31T03:27:24.918364Z"
    }
   },
   "outputs": [
    {
     "name": "stderr",
     "output_type": "stream",
     "text": [
      "/home/chen/anaconda3/lib/python3.7/site-packages/tqdm/autonotebook/__init__.py:14: TqdmExperimentalWarning: Using `tqdm.autonotebook.tqdm` in notebook mode. Use `tqdm.tqdm` instead to force console mode (e.g. in jupyter console)\n",
      "  \" (e.g. in jupyter console)\", TqdmExperimentalWarning)\n"
     ]
    }
   ],
   "source": [
    "from collections import Counter\n",
    "\n",
    "from tqdm.autonotebook import tqdm"
   ]
  },
  {
   "cell_type": "markdown",
   "metadata": {},
   "source": [
    "# 读取数据并进行预处理"
   ]
  },
  {
   "cell_type": "code",
   "execution_count": 2,
   "metadata": {
    "ExecuteTime": {
     "end_time": "2019-07-30T06:17:23.414044Z",
     "start_time": "2019-07-30T06:17:10.191329Z"
    }
   },
   "outputs": [],
   "source": [
    "data = pd.read_csv(\"../data/review.csv\")"
   ]
  },
  {
   "cell_type": "code",
   "execution_count": 3,
   "metadata": {
    "ExecuteTime": {
     "end_time": "2019-07-30T06:17:29.277052Z",
     "start_time": "2019-07-30T06:17:29.265018Z"
    }
   },
   "outputs": [
    {
     "data": {
      "text/html": [
       "<div>\n",
       "<style scoped>\n",
       "    .dataframe tbody tr th:only-of-type {\n",
       "        vertical-align: middle;\n",
       "    }\n",
       "\n",
       "    .dataframe tbody tr th {\n",
       "        vertical-align: top;\n",
       "    }\n",
       "\n",
       "    .dataframe thead th {\n",
       "        text-align: right;\n",
       "    }\n",
       "</style>\n",
       "<table border=\"1\" class=\"dataframe\">\n",
       "  <thead>\n",
       "    <tr style=\"text-align: right;\">\n",
       "      <th></th>\n",
       "      <th>review_id</th>\n",
       "      <th>user_id</th>\n",
       "      <th>business_id</th>\n",
       "      <th>stars</th>\n",
       "      <th>useful</th>\n",
       "      <th>funny</th>\n",
       "      <th>cool</th>\n",
       "      <th>text</th>\n",
       "      <th>date</th>\n",
       "    </tr>\n",
       "  </thead>\n",
       "  <tbody>\n",
       "    <tr>\n",
       "      <th>0</th>\n",
       "      <td>Q1sbwvVQXV2734tPgoKj4Q</td>\n",
       "      <td>hG7b0MtEbXx5QzbzE6C_VA</td>\n",
       "      <td>ujmEBvifdJM6h6RLv4wQIg</td>\n",
       "      <td>1.0</td>\n",
       "      <td>6</td>\n",
       "      <td>1</td>\n",
       "      <td>0</td>\n",
       "      <td>Total bill for this horrible service? Over $8G...</td>\n",
       "      <td>2013-05-07 04:34:36</td>\n",
       "    </tr>\n",
       "    <tr>\n",
       "      <th>1</th>\n",
       "      <td>GJXCdrto3ASJOqKeVWPi6Q</td>\n",
       "      <td>yXQM5uF2jS6es16SJzNHfg</td>\n",
       "      <td>NZnhc2sEQy3RmzKTZnqtwQ</td>\n",
       "      <td>5.0</td>\n",
       "      <td>0</td>\n",
       "      <td>0</td>\n",
       "      <td>0</td>\n",
       "      <td>I *adore* Travis at the Hard Rock's new Kelly ...</td>\n",
       "      <td>2017-01-14 21:30:33</td>\n",
       "    </tr>\n",
       "    <tr>\n",
       "      <th>2</th>\n",
       "      <td>2TzJjDVDEuAW6MR5Vuc1ug</td>\n",
       "      <td>n6-Gk65cPZL6Uz8qRm3NYw</td>\n",
       "      <td>WTqjgwHlXbSFevF32_DJVw</td>\n",
       "      <td>5.0</td>\n",
       "      <td>3</td>\n",
       "      <td>0</td>\n",
       "      <td>0</td>\n",
       "      <td>I have to say that this office really has it t...</td>\n",
       "      <td>2016-11-09 20:09:03</td>\n",
       "    </tr>\n",
       "    <tr>\n",
       "      <th>3</th>\n",
       "      <td>yi0R0Ugj_xUx_Nek0-_Qig</td>\n",
       "      <td>dacAIZ6fTM6mqwW5uxkskg</td>\n",
       "      <td>ikCg8xy5JIg_NGPx-MSIDA</td>\n",
       "      <td>5.0</td>\n",
       "      <td>0</td>\n",
       "      <td>0</td>\n",
       "      <td>0</td>\n",
       "      <td>Went in for a lunch. Steak sandwich was delici...</td>\n",
       "      <td>2018-01-09 20:56:38</td>\n",
       "    </tr>\n",
       "    <tr>\n",
       "      <th>4</th>\n",
       "      <td>11a8sVPMUFtaC7_ABRkmtw</td>\n",
       "      <td>ssoyf2_x0EQMed6fgHeMyQ</td>\n",
       "      <td>b1b1eb3uo-w561D0ZfCEiQ</td>\n",
       "      <td>1.0</td>\n",
       "      <td>7</td>\n",
       "      <td>0</td>\n",
       "      <td>0</td>\n",
       "      <td>Today was my second out of three sessions I ha...</td>\n",
       "      <td>2018-01-30 23:07:38</td>\n",
       "    </tr>\n",
       "  </tbody>\n",
       "</table>\n",
       "</div>"
      ],
      "text/plain": [
       "                review_id                 user_id             business_id  \\\n",
       "0  Q1sbwvVQXV2734tPgoKj4Q  hG7b0MtEbXx5QzbzE6C_VA  ujmEBvifdJM6h6RLv4wQIg   \n",
       "1  GJXCdrto3ASJOqKeVWPi6Q  yXQM5uF2jS6es16SJzNHfg  NZnhc2sEQy3RmzKTZnqtwQ   \n",
       "2  2TzJjDVDEuAW6MR5Vuc1ug  n6-Gk65cPZL6Uz8qRm3NYw  WTqjgwHlXbSFevF32_DJVw   \n",
       "3  yi0R0Ugj_xUx_Nek0-_Qig  dacAIZ6fTM6mqwW5uxkskg  ikCg8xy5JIg_NGPx-MSIDA   \n",
       "4  11a8sVPMUFtaC7_ABRkmtw  ssoyf2_x0EQMed6fgHeMyQ  b1b1eb3uo-w561D0ZfCEiQ   \n",
       "\n",
       "   stars  useful  funny  cool  \\\n",
       "0    1.0       6      1     0   \n",
       "1    5.0       0      0     0   \n",
       "2    5.0       3      0     0   \n",
       "3    5.0       0      0     0   \n",
       "4    1.0       7      0     0   \n",
       "\n",
       "                                                text                 date  \n",
       "0  Total bill for this horrible service? Over $8G...  2013-05-07 04:34:36  \n",
       "1  I *adore* Travis at the Hard Rock's new Kelly ...  2017-01-14 21:30:33  \n",
       "2  I have to say that this office really has it t...  2016-11-09 20:09:03  \n",
       "3  Went in for a lunch. Steak sandwich was delici...  2018-01-09 20:56:38  \n",
       "4  Today was my second out of three sessions I ha...  2018-01-30 23:07:38  "
      ]
     },
     "execution_count": 3,
     "metadata": {},
     "output_type": "execute_result"
    }
   ],
   "source": [
    "data.head()"
   ]
  },
  {
   "cell_type": "code",
   "execution_count": 4,
   "metadata": {
    "ExecuteTime": {
     "end_time": "2019-07-30T06:18:32.924318Z",
     "start_time": "2019-07-30T06:18:32.833326Z"
    }
   },
   "outputs": [],
   "source": [
    "# 删除掉无用的列，只保留有用的列\n",
    "data = data[['review_id', 'stars', 'text']]"
   ]
  },
  {
   "cell_type": "code",
   "execution_count": 6,
   "metadata": {
    "ExecuteTime": {
     "end_time": "2019-07-30T06:19:29.587865Z",
     "start_time": "2019-07-30T06:19:29.307570Z"
    }
   },
   "outputs": [
    {
     "data": {
      "text/plain": [
       "Counter({1.0: 352637, 5.0: 1049906, 4.0: 525826, 3.0: 263437, 2.0: 191981})"
      ]
     },
     "execution_count": 6,
     "metadata": {},
     "output_type": "execute_result"
    }
   ],
   "source": [
    "# 对标签进行统计分析\n",
    "Counter(data['stars'])"
   ]
  },
  {
   "cell_type": "code",
   "execution_count": 7,
   "metadata": {
    "ExecuteTime": {
     "end_time": "2019-07-30T06:20:59.274442Z",
     "start_time": "2019-07-30T06:20:58.245205Z"
    }
   },
   "outputs": [],
   "source": [
    "# 对标签进行处理，大小3的表示pos，小于等于3的表示neg\n",
    "data['emotion'] = data['stars'].apply(lambda x: int(x>3))"
   ]
  },
  {
   "cell_type": "code",
   "execution_count": 8,
   "metadata": {
    "ExecuteTime": {
     "end_time": "2019-07-30T06:21:03.363281Z",
     "start_time": "2019-07-30T06:21:03.343933Z"
    }
   },
   "outputs": [
    {
     "data": {
      "text/html": [
       "<div>\n",
       "<style scoped>\n",
       "    .dataframe tbody tr th:only-of-type {\n",
       "        vertical-align: middle;\n",
       "    }\n",
       "\n",
       "    .dataframe tbody tr th {\n",
       "        vertical-align: top;\n",
       "    }\n",
       "\n",
       "    .dataframe thead th {\n",
       "        text-align: right;\n",
       "    }\n",
       "</style>\n",
       "<table border=\"1\" class=\"dataframe\">\n",
       "  <thead>\n",
       "    <tr style=\"text-align: right;\">\n",
       "      <th></th>\n",
       "      <th>review_id</th>\n",
       "      <th>stars</th>\n",
       "      <th>text</th>\n",
       "      <th>emotion</th>\n",
       "    </tr>\n",
       "  </thead>\n",
       "  <tbody>\n",
       "    <tr>\n",
       "      <th>0</th>\n",
       "      <td>Q1sbwvVQXV2734tPgoKj4Q</td>\n",
       "      <td>1.0</td>\n",
       "      <td>Total bill for this horrible service? Over $8G...</td>\n",
       "      <td>0</td>\n",
       "    </tr>\n",
       "    <tr>\n",
       "      <th>1</th>\n",
       "      <td>GJXCdrto3ASJOqKeVWPi6Q</td>\n",
       "      <td>5.0</td>\n",
       "      <td>I *adore* Travis at the Hard Rock's new Kelly ...</td>\n",
       "      <td>1</td>\n",
       "    </tr>\n",
       "    <tr>\n",
       "      <th>2</th>\n",
       "      <td>2TzJjDVDEuAW6MR5Vuc1ug</td>\n",
       "      <td>5.0</td>\n",
       "      <td>I have to say that this office really has it t...</td>\n",
       "      <td>1</td>\n",
       "    </tr>\n",
       "    <tr>\n",
       "      <th>3</th>\n",
       "      <td>yi0R0Ugj_xUx_Nek0-_Qig</td>\n",
       "      <td>5.0</td>\n",
       "      <td>Went in for a lunch. Steak sandwich was delici...</td>\n",
       "      <td>1</td>\n",
       "    </tr>\n",
       "    <tr>\n",
       "      <th>4</th>\n",
       "      <td>11a8sVPMUFtaC7_ABRkmtw</td>\n",
       "      <td>1.0</td>\n",
       "      <td>Today was my second out of three sessions I ha...</td>\n",
       "      <td>0</td>\n",
       "    </tr>\n",
       "  </tbody>\n",
       "</table>\n",
       "</div>"
      ],
      "text/plain": [
       "                review_id  stars  \\\n",
       "0  Q1sbwvVQXV2734tPgoKj4Q    1.0   \n",
       "1  GJXCdrto3ASJOqKeVWPi6Q    5.0   \n",
       "2  2TzJjDVDEuAW6MR5Vuc1ug    5.0   \n",
       "3  yi0R0Ugj_xUx_Nek0-_Qig    5.0   \n",
       "4  11a8sVPMUFtaC7_ABRkmtw    1.0   \n",
       "\n",
       "                                                text  emotion  \n",
       "0  Total bill for this horrible service? Over $8G...        0  \n",
       "1  I *adore* Travis at the Hard Rock's new Kelly ...        1  \n",
       "2  I have to say that this office really has it t...        1  \n",
       "3  Went in for a lunch. Steak sandwich was delici...        1  \n",
       "4  Today was my second out of three sessions I ha...        0  "
      ]
     },
     "execution_count": 8,
     "metadata": {},
     "output_type": "execute_result"
    }
   ],
   "source": [
    "data.head()"
   ]
  },
  {
   "cell_type": "markdown",
   "metadata": {},
   "source": [
    "# 对文本进行处理"
   ]
  },
  {
   "cell_type": "code",
   "execution_count": 33,
   "metadata": {
    "ExecuteTime": {
     "end_time": "2019-07-30T07:05:52.272557Z",
     "start_time": "2019-07-30T07:05:52.268616Z"
    }
   },
   "outputs": [],
   "source": [
    "import nltk\n",
    "from nltk import tokenize\n",
    "from nltk.corpus import stopwords\n",
    "import spacy\n",
    "import re \n",
    "from nltk.stem import WordNetLemmatizer\n",
    "\n",
    "stoplists = stopwords.words(\"english\")\n",
    "\n",
    "wnl = WordNetLemmatizer()"
   ]
  },
  {
   "cell_type": "code",
   "execution_count": 28,
   "metadata": {
    "ExecuteTime": {
     "end_time": "2019-07-30T07:04:38.540713Z",
     "start_time": "2019-07-30T07:04:38.533499Z"
    }
   },
   "outputs": [],
   "source": [
    "# 添加需要去除的标点符号集，问号和感叹号除外\n",
    "puncts = [',', '.', '\"', ':', ')', '(', '-', '?', '!', '|', ';', \"'\", '$', '&', '/', \n",
    "          '[', ']', '>', '%', '=', '#', '*', '+', '\\\\', '•',  '~', '@', '£', '·', '_', \n",
    "          '{', '}', '©', '^', '®', '`',  '<', '→', '°', '€', '™', '›',  '♥', '←', '×', \n",
    "          '§', '″', '′', 'Â', '█', '½', 'à', '…', '“', '★', '”', '–', '●', 'â', '►', \n",
    "          '−', '¢', '²', '¬', '░', '¶', '↑', '±', '¿', '▾', '═', '¦', '║', '―', '¥',\n",
    "          '▓', '—', '‹', '─', '▒', '：', '¼', '⊕', '▼', '▪', '†', '■', '’', '▀', '¨', \n",
    "          '▄', '♫', '☆', 'é', '¯', '♦', '¤', '▲', 'è', '¸', '¾', 'Ã', '⋅', '‘', '∞', \n",
    "          '∙', '）', '↓', '、', '│', '（', '»', '，', '♪', '╩', '╚', '³', '・', '╦', '╣', \n",
    "          '╔', '╗', '▬', '❤', 'ï', 'Ø', '¹', '≤', '‡', '√', ]\n",
    "\n",
    "# 定义一些常见的缩写\n",
    "contraction_patterns = [ (r'won\\'t', 'will not'), (r'can\\'t', 'cannot'), (r'i\\'m', 'i am'),\n",
    "                        (r'isn\\'t', 'is not'), (r'(\\w+)\\'ll', '\\g<1> will'), \n",
    "                        (r'(\\w+)n\\'t', '\\g<1> not'),(r'(\\w+)\\'ve', '\\g<1> have'), \n",
    "                        (r'(\\w+)\\'s', '\\g<1> is'), (r'(\\w+)\\'re', '\\g<1> are'), \n",
    "                        (r'(\\w+)\\'d', '\\g<1> would'), (r'&', 'and'), (r'dammit', 'damn it'),\n",
    "                        (r'dont', 'do not'), (r'wont', 'will not') ]"
   ]
  },
  {
   "cell_type": "code",
   "execution_count": 34,
   "metadata": {
    "ExecuteTime": {
     "end_time": "2019-07-30T07:06:27.891456Z",
     "start_time": "2019-07-30T07:06:27.865836Z"
    }
   },
   "outputs": [],
   "source": [
    "def clean_text(text):\n",
    "    # 去除对情感分类没有用的数字\n",
    "    text = re.sub(\"[0-9]+\", \"\", text)\n",
    "    # 对重复出现的标点进行天魂\n",
    "    text = re.sub(r\"(\\!)\\1+\", \"multiExclamation\", text)\n",
    "    text = re.sub(r\"(\\?)\\1+\", \"multiQuestion\", text)\n",
    "    text = re.sub(r\"(\\.)\\1+\", \"multiStop\", text)\n",
    "    \n",
    "    # 对缩写进行替换\n",
    "    patterns = [(re.compile(regex), repl) for (regex, repl) in contraction_patterns]\n",
    "    for (pattern, repl) in patterns:\n",
    "        (text, count) = re.subn(pattern, repl, text)\n",
    "    \n",
    "    # 在标点前面加上空格\n",
    "    for punct in puncts:\n",
    "        text = text.replace(punct, f\" {punct} \")\n",
    "    \n",
    "    #print(text)\n",
    "    # 对文本进行分词\n",
    "    text_split = tokenize.word_tokenize(text)\n",
    "    text = [word for word in text_split if word not in stoplists]\n",
    "    text = [wnl.lemmatize(word) for word in text]\n",
    "    \n",
    "    return \" \".join(text)"
   ]
  },
  {
   "cell_type": "code",
   "execution_count": 35,
   "metadata": {
    "ExecuteTime": {
     "end_time": "2019-07-30T07:06:28.887056Z",
     "start_time": "2019-07-30T07:06:28.053288Z"
    }
   },
   "outputs": [
    {
     "data": {
      "text/plain": [
       "'I test file ! multiStop ! @ @ # # $ ( )'"
      ]
     },
     "execution_count": 35,
     "metadata": {},
     "output_type": "execute_result"
    }
   ],
   "source": [
    "clean_text(\"I'll a test file ! ... !@@##$()\")"
   ]
  },
  {
   "cell_type": "code",
   "execution_count": 36,
   "metadata": {
    "ExecuteTime": {
     "end_time": "2019-07-30T07:58:16.374396Z",
     "start_time": "2019-07-30T07:10:05.441072Z"
    }
   },
   "outputs": [],
   "source": [
    "data['text'] = data['text'].apply(lambda s: clean_text(s))"
   ]
  },
  {
   "cell_type": "code",
   "execution_count": 37,
   "metadata": {
    "ExecuteTime": {
     "end_time": "2019-07-30T07:58:28.825803Z",
     "start_time": "2019-07-30T07:58:28.813501Z"
    }
   },
   "outputs": [
    {
     "data": {
      "text/html": [
       "<div>\n",
       "<style scoped>\n",
       "    .dataframe tbody tr th:only-of-type {\n",
       "        vertical-align: middle;\n",
       "    }\n",
       "\n",
       "    .dataframe tbody tr th {\n",
       "        vertical-align: top;\n",
       "    }\n",
       "\n",
       "    .dataframe thead th {\n",
       "        text-align: right;\n",
       "    }\n",
       "</style>\n",
       "<table border=\"1\" class=\"dataframe\">\n",
       "  <thead>\n",
       "    <tr style=\"text-align: right;\">\n",
       "      <th></th>\n",
       "      <th>review_id</th>\n",
       "      <th>stars</th>\n",
       "      <th>text</th>\n",
       "      <th>emotion</th>\n",
       "    </tr>\n",
       "  </thead>\n",
       "  <tbody>\n",
       "    <tr>\n",
       "      <th>0</th>\n",
       "      <td>Q1sbwvVQXV2734tPgoKj4Q</td>\n",
       "      <td>1.0</td>\n",
       "      <td>Total bill horrible service ? Over $ Gs . Thes...</td>\n",
       "      <td>0</td>\n",
       "    </tr>\n",
       "    <tr>\n",
       "      <th>1</th>\n",
       "      <td>GJXCdrto3ASJOqKeVWPi6Q</td>\n",
       "      <td>5.0</td>\n",
       "      <td>I * adore * Travis Hard Rock new Kelly Cardena...</td>\n",
       "      <td>1</td>\n",
       "    </tr>\n",
       "    <tr>\n",
       "      <th>2</th>\n",
       "      <td>2TzJjDVDEuAW6MR5Vuc1ug</td>\n",
       "      <td>5.0</td>\n",
       "      <td>I say office really together , organized frien...</td>\n",
       "      <td>1</td>\n",
       "    </tr>\n",
       "    <tr>\n",
       "      <th>3</th>\n",
       "      <td>yi0R0Ugj_xUx_Nek0-_Qig</td>\n",
       "      <td>5.0</td>\n",
       "      <td>Went lunch . Steak sandwich delicious , Caesar...</td>\n",
       "      <td>1</td>\n",
       "    </tr>\n",
       "    <tr>\n",
       "      <th>4</th>\n",
       "      <td>11a8sVPMUFtaC7_ABRkmtw</td>\n",
       "      <td>1.0</td>\n",
       "      <td>Today second three session I paid . Although f...</td>\n",
       "      <td>0</td>\n",
       "    </tr>\n",
       "  </tbody>\n",
       "</table>\n",
       "</div>"
      ],
      "text/plain": [
       "                review_id  stars  \\\n",
       "0  Q1sbwvVQXV2734tPgoKj4Q    1.0   \n",
       "1  GJXCdrto3ASJOqKeVWPi6Q    5.0   \n",
       "2  2TzJjDVDEuAW6MR5Vuc1ug    5.0   \n",
       "3  yi0R0Ugj_xUx_Nek0-_Qig    5.0   \n",
       "4  11a8sVPMUFtaC7_ABRkmtw    1.0   \n",
       "\n",
       "                                                text  emotion  \n",
       "0  Total bill horrible service ? Over $ Gs . Thes...        0  \n",
       "1  I * adore * Travis Hard Rock new Kelly Cardena...        1  \n",
       "2  I say office really together , organized frien...        1  \n",
       "3  Went lunch . Steak sandwich delicious , Caesar...        1  \n",
       "4  Today second three session I paid . Although f...        0  "
      ]
     },
     "execution_count": 37,
     "metadata": {},
     "output_type": "execute_result"
    }
   ],
   "source": [
    "data.head()"
   ]
  },
  {
   "cell_type": "code",
   "execution_count": 38,
   "metadata": {
    "ExecuteTime": {
     "end_time": "2019-07-30T08:01:34.548068Z",
     "start_time": "2019-07-30T08:01:34.546242Z"
    }
   },
   "outputs": [],
   "source": [
    "# 划分训练集和验证集\n",
    "from sklearn.model_selection import train_test_split"
   ]
  },
  {
   "cell_type": "code",
   "execution_count": 39,
   "metadata": {
    "ExecuteTime": {
     "end_time": "2019-07-30T08:04:15.290886Z",
     "start_time": "2019-07-30T08:04:14.317606Z"
    }
   },
   "outputs": [],
   "source": [
    "X_train, X_test, y_train, y_test = train_test_split(data['text'].values, data['emotion'].values,\n",
    "                                                   test_size=0.3, random_state=2019, shuffle=True,\n",
    "                                                   stratify=data['emotion'].values)"
   ]
  },
  {
   "cell_type": "code",
   "execution_count": 40,
   "metadata": {
    "ExecuteTime": {
     "end_time": "2019-07-30T08:04:20.853213Z",
     "start_time": "2019-07-30T08:04:20.844411Z"
    }
   },
   "outputs": [
    {
     "data": {
      "text/plain": [
       "'Big Juicy Gourmet Burger melted cheese bacon crumbles underneath . salted golden shoestring fry compliment juicy thick patty beef well . The beef ground site enjoyed medium rare burger . Very delicious . On bar `` Whisky Book `` , filled diffferent whisky . If like Bourbon Whisky enough reason go . Wish beer , feeling scratched surface . burger $ , beer $ hh .'"
      ]
     },
     "execution_count": 40,
     "metadata": {},
     "output_type": "execute_result"
    }
   ],
   "source": [
    "X_train[0]"
   ]
  },
  {
   "cell_type": "markdown",
   "metadata": {},
   "source": [
    "下面将文本写成fasttext需要使用的文本格式，比如：\n",
    "\n",
    "Big Juicy Gourmet Burger melted cheese bacon crumbles underneath . &emsp;&emsp;   \\_\\_label\\_\\_pos \n",
    "\n",
    "即每一行前面表示文本，后面表示标签"
   ]
  },
  {
   "cell_type": "code",
   "execution_count": 42,
   "metadata": {
    "ExecuteTime": {
     "end_time": "2019-07-30T08:09:45.146103Z",
     "start_time": "2019-07-30T08:09:42.830228Z"
    }
   },
   "outputs": [
    {
     "data": {
      "application/vnd.jupyter.widget-view+json": {
       "model_id": "8953de480504432cb1506cd18818b29f",
       "version_major": 2,
       "version_minor": 0
      },
      "text/plain": [
       "HBox(children=(IntProgress(value=1, bar_style='info', max=1), HTML(value='')))"
      ]
     },
     "metadata": {},
     "output_type": "display_data"
    },
    {
     "name": "stdout",
     "output_type": "stream",
     "text": [
      "\n"
     ]
    }
   ],
   "source": [
    "# 将训练集和测试集写入文件中\n",
    "with open(\"../data/yelps_train_fasttext.txt\", \"w\", encoding=\"utf8\") as f: \n",
    "    train = zip(X_train, y_train)\n",
    "    for X, y in tqdm(train):\n",
    "        label = \"pos\" if y > 0 else \"neg\"\n",
    "        record = X + \"\\t__label__\"+label+\"\\n\"\n",
    "        f.write(record)"
   ]
  },
  {
   "cell_type": "code",
   "execution_count": 43,
   "metadata": {
    "ExecuteTime": {
     "end_time": "2019-07-30T08:11:44.485912Z",
     "start_time": "2019-07-30T08:11:43.451616Z"
    }
   },
   "outputs": [
    {
     "data": {
      "application/vnd.jupyter.widget-view+json": {
       "model_id": "2f5c55103a9d4d02835aa38cf7bb4b32",
       "version_major": 2,
       "version_minor": 0
      },
      "text/plain": [
       "HBox(children=(IntProgress(value=1, bar_style='info', max=1), HTML(value='')))"
      ]
     },
     "metadata": {},
     "output_type": "display_data"
    },
    {
     "name": "stdout",
     "output_type": "stream",
     "text": [
      "\n"
     ]
    }
   ],
   "source": [
    "# 将测试集写入文件中\n",
    "with open(\"../data/yelps_test_fasttext.txt\", \"w\", encoding=\"utf-8\") as f: \n",
    "    test = zip(X_test, y_test)\n",
    "    for X, y in tqdm(test):\n",
    "        label = \"pos\" if y>0 else \"neg\"\n",
    "        record = X+\"\\t__label__\"+label+\"\\n\"\n",
    "        f.write(record)"
   ]
  },
  {
   "cell_type": "code",
   "execution_count": 56,
   "metadata": {
    "ExecuteTime": {
     "end_time": "2019-07-30T08:29:16.062581Z",
     "start_time": "2019-07-30T08:29:16.060117Z"
    }
   },
   "outputs": [
    {
     "data": {
      "text/plain": [
       "(715137,)"
      ]
     },
     "execution_count": 56,
     "metadata": {},
     "output_type": "execute_result"
    }
   ],
   "source": [
    "X_test.shape"
   ]
  },
  {
   "cell_type": "markdown",
   "metadata": {},
   "source": [
    "# 训练fastText模型"
   ]
  },
  {
   "cell_type": "markdown",
   "metadata": {},
   "source": [
    "## 对yelps数据集进行分类"
   ]
  },
  {
   "cell_type": "code",
   "execution_count": 46,
   "metadata": {
    "ExecuteTime": {
     "end_time": "2019-07-30T08:19:41.889972Z",
     "start_time": "2019-07-30T08:16:30.696145Z"
    }
   },
   "outputs": [],
   "source": [
    "classifier = fasttext.train_supervised(\"../data/yelps_train_fasttext.txt\", epoch=25, lr=0.25, wordNgrams=2,\n",
    "                                      verbose=2, minCount=2)"
   ]
  },
  {
   "cell_type": "code",
   "execution_count": 51,
   "metadata": {
    "ExecuteTime": {
     "end_time": "2019-07-30T08:26:03.592179Z",
     "start_time": "2019-07-30T08:25:51.901221Z"
    }
   },
   "outputs": [],
   "source": [
    "# 测试训练的结果\n",
    "result = classifier.test(\"../data/yelps_test_fasttext.txt\")"
   ]
  },
  {
   "cell_type": "code",
   "execution_count": 54,
   "metadata": {
    "ExecuteTime": {
     "end_time": "2019-07-30T08:27:06.866091Z",
     "start_time": "2019-07-30T08:27:06.862579Z"
    }
   },
   "outputs": [
    {
     "data": {
      "text/plain": [
       "(715137, 0.9033835474881037, 0.9033835474881037)"
      ]
     },
     "execution_count": 54,
     "metadata": {},
     "output_type": "execute_result"
    }
   ],
   "source": [
    "# 第一个参数表示测试集大小，第二个参数表示准确率，第三个参数表示召回率\n",
    "result"
   ]
  },
  {
   "cell_type": "markdown",
   "metadata": {},
   "source": [
    "- 共测试了715137条评论\n",
    "\n",
    "- <font color=red size=4>**得到 P为90.338%，R为90.338%**</font>"
   ]
  },
  {
   "cell_type": "code",
   "execution_count": 55,
   "metadata": {
    "ExecuteTime": {
     "end_time": "2019-07-30T08:27:40.048742Z",
     "start_time": "2019-07-30T08:27:40.044392Z"
    }
   },
   "outputs": [
    {
     "data": {
      "text/plain": [
       "([['__label__neg']], array([[0.96849835]]))"
      ]
     },
     "execution_count": 55,
     "metadata": {},
     "output_type": "execute_result"
    }
   ],
   "source": [
    "# 预测结果第一个参数表示标签，第二个参数表示概率\n",
    "classifier.predict([\"This is bad !\"])"
   ]
  },
  {
   "cell_type": "markdown",
   "metadata": {},
   "source": [
    "## 对IMDB数据集进行分类"
   ]
  },
  {
   "cell_type": "code",
   "execution_count": 3,
   "metadata": {
    "ExecuteTime": {
     "end_time": "2019-07-31T03:28:28.118149Z",
     "start_time": "2019-07-31T03:28:19.781673Z"
    }
   },
   "outputs": [],
   "source": [
    "classifier = fasttext.train_supervised(\"../data/preprocess/imdb_fasttext_train.txt\", epoch=25, lr=0.25,\n",
    "                                      wordNgrams=2, verbose=2, minCount=2)"
   ]
  },
  {
   "cell_type": "code",
   "execution_count": 4,
   "metadata": {
    "ExecuteTime": {
     "end_time": "2019-07-31T03:29:06.490296Z",
     "start_time": "2019-07-31T03:29:06.259669Z"
    }
   },
   "outputs": [],
   "source": [
    "# 测试集结果\n",
    "result = classifier.test(\"../data/preprocess/imdb_fasttext_test.txt\")"
   ]
  },
  {
   "cell_type": "code",
   "execution_count": 6,
   "metadata": {
    "ExecuteTime": {
     "end_time": "2019-07-31T03:29:16.501643Z",
     "start_time": "2019-07-31T03:29:16.483482Z"
    }
   },
   "outputs": [
    {
     "data": {
      "text/plain": [
       "(6250, 0.888, 0.888)"
      ]
     },
     "execution_count": 6,
     "metadata": {},
     "output_type": "execute_result"
    }
   ],
   "source": [
    "result"
   ]
  },
  {
   "cell_type": "markdown",
   "metadata": {},
   "source": [
    "- 共测试了6250条评论\n",
    "\n",
    "- <font color=red size=4>**得到P为88.8%，R为88.8%**</font>"
   ]
  },
  {
   "cell_type": "markdown",
   "metadata": {},
   "source": [
    "# 用tensorflow实现fastText"
   ]
  },
  {
   "cell_type": "code",
   "execution_count": 58,
   "metadata": {
    "ExecuteTime": {
     "end_time": "2019-07-30T09:04:16.033335Z",
     "start_time": "2019-07-30T09:04:09.980724Z"
    }
   },
   "outputs": [],
   "source": [
    "import tensorflow as tf\n",
    "import numpy as np \n",
    "import os "
   ]
  },
  {
   "cell_type": "code",
   "execution_count": 59,
   "metadata": {
    "ExecuteTime": {
     "end_time": "2019-07-30T11:28:23.175673Z",
     "start_time": "2019-07-30T11:28:23.160761Z"
    }
   },
   "outputs": [],
   "source": [
    "class fastTextModel():\n",
    "    def __init__(self, sequence_length, num_classes, vocab_size, embedding_size, \n",
    "                learning_rate, decay_steps, decay_rate, l2_reg_lambda, is_training=True, \n",
    "                initializer=tf.random_normal_initializer(stddev=0.1)):\n",
    "        self.vocab_size = vocab_size\n",
    "        self.embedding_size = embedding_size\n",
    "        self.num_classes = num_classes\n",
    "        self.sequence_length = sequence_length\n",
    "        self.learning_rate = learning_rate\n",
    "        self.decay_steps = decay_steps\n",
    "        self.decay_rate = decay_rate\n",
    "        self.is_training = is_training\n",
    "        self.l2_reg_lambda = l2_reg_lambda\n",
    "        self.initializer = initializer\n",
    "        \n",
    "        self.input_x = tf.placeholder(tf.int32, [None, self.sequence_length], name=\"input_x\")\n",
    "        self.input_y = tf.placeholder(tf.int32, [None, self.num_classes], name=\"input_y\")\n",
    "        \n",
    "        self.global_step = tf.Variable(0, trainable=False, name=\"global_step\")\n",
    "        self.instantiate_weight()\n",
    "        self.logits = self.inference()\n",
    "        self.loss_val = self.loss()\n",
    "        self.train_op = self.train() \n",
    "        \n",
    "        self.predictions = tf.argmax(self.logits, axis=1, name=\"predictions\")\n",
    "        correct_predictions = tf.equal(self.predictions, tf.argmax(self.input_y, 1))\n",
    "        self.accuracy = tf.reduce_mean(tf.cast(correct_predictions, tf.float32), name=\"accuracy\")\n",
    "        \n",
    "    def instantiate_weight(self):\n",
    "        with tf.name_scope(\"weights\"):\n",
    "            self.Embedding = tf.get_variable(\"Embedding\", shape=[self.vocab_size, self.embedding_size],\n",
    "                                            initializer=self.initializer)\n",
    "            self.W_projection = tf.get_variable(\"W_projection\", shape=[self.embedding_size, self.num_classes],\n",
    "                                               initializer=self.initializer)\n",
    "            self.b_projection = tf.get_variable(\"b_projection\", shape=[self.num_classes])\n",
    "            \n",
    "    def inference(self):\n",
    "        '''\n",
    "        1. word embedding\n",
    "        2. average embedding\n",
    "        3. linear classifier\n",
    "        '''\n",
    "        # embedding layer\n",
    "        with tf.name_scope(\"embedding\"):\n",
    "            words_embedding = tf.nn.embedding_lookup(self.Embedding, self.input_x)\n",
    "            self.average_embedding = tf.reduce_mean(words_embedding, axis=1)  # 代表了这句话的embedding\n",
    "        \n",
    "        logits = tf.matmul(self.average_embedding, self.W_projection) + self.b_projection\n",
    "        return logits\n",
    "    \n",
    "    def loss(self):\n",
    "        with tf.name_scope(\"loss\"):\n",
    "            losses = tf.nn.softmax_cross_entropy_with_logits_v2(labels=self.input_y, logits=self.logits)\n",
    "            data_loss = tf.reduce_mean(losses)\n",
    "            l2_loss = tf.add_n([tf.nn.l2_loss(cand_var)] for cand_var in tf.trainable_variables() \n",
    "                              if \"bias\" not in cand_var.name) * self.l2_reg_lambda\n",
    "            data_loss += l2_loss\n",
    "            return data_loss\n",
    "        \n",
    "    def train(self):\n",
    "        with tf.name_scope(\"train\"):\n",
    "            learning_rate = tf.train.exponential_decay(self.learning_rate, self.global_step, \n",
    "                                                      self.decay_steps, self.decay_rate,\n",
    "                                                      staircase=True)\n",
    "            train_op = tf.contrib.layers.optimize_loss(self.loss_val, \n",
    "                                                      global_step=self.global_step,\n",
    "                                                      learning_rate=learning_rate,\n",
    "                                                      optimizer=\"Adam\")\n",
    "            \n",
    "            return train_op"
   ]
  },
  {
   "cell_type": "code",
   "execution_count": null,
   "metadata": {},
   "outputs": [],
   "source": []
  }
 ],
 "metadata": {
  "kernelspec": {
   "display_name": "Python 3",
   "language": "python",
   "name": "python3"
  },
  "language_info": {
   "codemirror_mode": {
    "name": "ipython",
    "version": 3
   },
   "file_extension": ".py",
   "mimetype": "text/x-python",
   "name": "python",
   "nbconvert_exporter": "python",
   "pygments_lexer": "ipython3",
   "version": "3.7.4"
  },
  "toc": {
   "base_numbering": 1,
   "nav_menu": {},
   "number_sections": true,
   "sideBar": true,
   "skip_h1_title": false,
   "title_cell": "Table of Contents",
   "title_sidebar": "Contents",
   "toc_cell": false,
   "toc_position": {},
   "toc_section_display": true,
   "toc_window_display": false
  }
 },
 "nbformat": 4,
 "nbformat_minor": 2
}

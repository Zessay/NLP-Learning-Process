{
 "cells": [
  {
   "cell_type": "code",
   "execution_count": 1,
   "metadata": {
    "ExecuteTime": {
     "end_time": "2019-08-23T10:54:35.228548Z",
     "start_time": "2019-08-23T10:54:34.222116Z"
    }
   },
   "outputs": [],
   "source": [
    "import os \n",
    "import pandas as pd \n",
    "import time \n",
    "import datetime \n",
    "import logging\n",
    "import json \n",
    "import random\n",
    "import math\n",
    "\n",
    "import warnings\n",
    "warnings.filterwarnings(\"ignore\")\n",
    "\n",
    "from tqdm.autonotebook import tqdm\n",
    "from collections import Counter\n",
    "import gensim\n",
    "import numpy as np \n",
    "import tensorflow as tf "
   ]
  },
  {
   "cell_type": "code",
   "execution_count": 2,
   "metadata": {
    "ExecuteTime": {
     "end_time": "2019-08-23T10:54:35.306478Z",
     "start_time": "2019-08-23T10:54:35.229845Z"
    }
   },
   "outputs": [],
   "source": [
    "from utils import *"
   ]
  },
  {
   "cell_type": "markdown",
   "metadata": {},
   "source": [
    "# 设置一些基础配置参数"
   ]
  },
  {
   "cell_type": "code",
   "execution_count": 3,
   "metadata": {
    "ExecuteTime": {
     "end_time": "2019-08-07T08:12:18.165265Z",
     "start_time": "2019-08-07T08:12:18.065253Z"
    }
   },
   "outputs": [],
   "source": [
    "class Config(dict):\n",
    "    def __init__(self, path=None):\n",
    "        super().__init__()\n",
    "        ## 定义训练参数\n",
    "        self['num_epochs'] = 6 \n",
    "        self['evaluateEvery'] = 100 \n",
    "        self['checkpointEvery'] = 100 \n",
    "        self['learningRate'] = 0.001 \n",
    "        \n",
    "        ## 定义模型参数\n",
    "        self['embeddingSize'] = 200 \n",
    "\n",
    "        self['hiddenSizes'] = [256, 256]  # 单层LSTM的神经元数\n",
    "        self['dropoutProb'] = 0.5 \n",
    "        self['l2RegLambda'] = 0.0 \n",
    "        \n",
    "        ## 定义基础参数\n",
    "        self['sequenceLength'] = 200 \n",
    "        self['batch_size'] = 64 \n",
    "        self['dataSource'] = path\n",
    "        self['stopWordSource'] = \"../data/english\"\n",
    "        self['numClasses'] = 1  \n",
    "        self['train_size'] = 0.8   # 训练集和测试集比例\n",
    "        self.threshold = 0.5 \n",
    "        \n",
    "        ## 保存模型参数\n",
    "        self['checkpoint_dir'] = \"../model/BiLSTM/imdb/checkpoint\"\n",
    "        self['summary_dir'] = \"../model/BiLSTM/imdb/summary\"\n",
    "        self['max_to_keep'] = 5"
   ]
  },
  {
   "cell_type": "markdown",
   "metadata": {},
   "source": [
    "BiLSTM的数据处理方式和TextCNN相同，都是以Word为单位的，所以这里直接使用之前写好的DataSet类即可"
   ]
  },
  {
   "cell_type": "markdown",
   "metadata": {},
   "source": [
    "# 定义模型"
   ]
  },
  {
   "cell_type": "markdown",
   "metadata": {},
   "source": [
    "## 定义BiLSTM模型类"
   ]
  },
  {
   "cell_type": "code",
   "execution_count": 4,
   "metadata": {
    "ExecuteTime": {
     "end_time": "2019-08-07T08:12:19.184082Z",
     "start_time": "2019-08-07T08:12:19.168293Z"
    }
   },
   "outputs": [],
   "source": [
    "class BiLSTM(BaseModel):\n",
    "    def __init__(self, config, wordEmbedding):\n",
    "        super(BiLSTM, self).__init__(config)\n",
    "        self.wordEmbedding = wordEmbedding\n",
    "        self.build_model()\n",
    "        self.init_saver()\n",
    "        \n",
    "    def build_model(self):\n",
    "        # 定义模型的输入\n",
    "        self.inputX = tf.placeholder(tf.int32, [None, self.config[\"sequenceLength\"]], name=\"inputX\")\n",
    "        self.inputY = tf.placeholder(tf.int32, [None], name=\"inputY\")\n",
    "        \n",
    "        self.dropoutProb = tf.placeholder(tf.float32, name=\"dropoutProb\")\n",
    "        \n",
    "        # 定义l2损失\n",
    "        l2Loss = tf.constant(0.0)\n",
    "        \n",
    "        # 词嵌入层\n",
    "        with tf.name_scope(\"embedding\"):\n",
    "            # 利用预训练的词向量初始化词嵌入矩阵\n",
    "            self.W = tf.Variable(tf.cast(self.wordEmbedding, dtype=tf.float32, name=\"word2vec\"),\n",
    "                                name=\"W\")\n",
    "            # 利用此前向矩阵将输入的数据中的词替换为词向量\n",
    "            # 维度为 [batch_size, sequence_length, embedding_size]\n",
    "            self.embededWords = tf.nn.embedding_lookup(self.W, self.inputX)\n",
    "        \n",
    "        # 定义两层双向LSTM\n",
    "        with tf.name_scope(\"Bi-LSTM\"):\n",
    "            for idx, hiddenSize in enumerate(self.config[\"hiddenSizes\"]):\n",
    "                with tf.name_scope(f\"BiLSTM_{idx}\"):\n",
    "                    ## 定义前向LSTM结构\n",
    "                    lstmFwCell = tf.nn.rnn_cell.DropoutWrapper(\n",
    "                        tf.nn.rnn_cell.LSTMCell(num_units=hiddenSize, state_is_tuple=True),\n",
    "                        output_keep_prob=self.dropoutProb)\n",
    "                    ## 定义反向LSTM结构\n",
    "                    lstmBwCell = tf.nn.rnn_cell.DropoutWrapper(\n",
    "                        tf.nn.rnn_cell.LSTMCell(num_units=hiddenSize, state_is_tuple=True),\n",
    "                        output_keep_prob=self.dropoutProb)\n",
    "                    \n",
    "                    ## 采用动态RNN，可以动态输入序列的长度，没有输入则取序列的全长\n",
    "                    ## outputs是一个元组(output_fw, output_bw)\n",
    "                    ## fw和bw的维度都是[batch, max_time, hidden_size]\n",
    "                    outputs, self.current_state = tf.nn.bidirectional_dynamic_rnn(\n",
    "                        lstmFwCell, lstmBwCell, self.embededWords, dtype=tf.float32,\n",
    "                        scope=f\"bilstm_{idx}\")\n",
    "                    ## 对outputs中的fw和bw结果拼接成 [batch, max_time, hidden_size*2]\n",
    "                    self.embededWords = tf.concat(outputs, 2)\n",
    "        \n",
    "        # 分类只需要取出最后一个时间步的输出即可\n",
    "        finalOutput = self.embededWords[:, -1, :]\n",
    "        outputSize = self.config[\"hiddenSizes\"][-1] * 2 ## 双向LSTM最后输出是fw和bw的拼接\n",
    "        output = tf.reshape(finalOutput, [-1, outputSize])\n",
    "        \n",
    "        # 全连接层输出\n",
    "        with tf.name_scope(\"output\"):\n",
    "            self.logits = tf.layers.dense(output, self.config['numClasses'], name=\"dense\",\n",
    "                                         kernel_initializer=tf.contrib.layers.xavier_initializer(),\n",
    "                                         bias_initializer=tf.constant_initializer(0.1))\n",
    "            ## 获取全连接层的权重\n",
    "            with tf.variable_scope(\"dense\", reuse=True):\n",
    "                outputW = tf.get_variable(\"kernel\")\n",
    "            l2Loss += tf.nn.l2_loss(outputW)\n",
    "            \n",
    "            if self.config['numClasses'] == 1: \n",
    "                self.predictions = tf.sigmoid(self.logits)\n",
    "            elif self.config['numClasses'] > 1: \n",
    "                self.predictions = tf.nn.softmax(self.logits, dim=1)\n",
    "            \n",
    "        # 计算二元交叉熵损失\n",
    "        with tf.name_scope(\"loss\"):\n",
    "            if self.config[\"numClasses\"] == 1: \n",
    "                losses = tf.nn.sigmoid_cross_entropy_with_logits(logits=self.logits,\n",
    "                                                                labels=tf.cast(tf.reshape(self.inputY, [-1, 1]),\n",
    "                                                                              dtype=tf.float32))\n",
    "            elif self.config['numClasses'] > 1: \n",
    "                losses = tf.nn.sparse_softmax_cross_entropy_with_logits(logits=self.logits,\n",
    "                                                                       labels=self.inputY)\n",
    "            \n",
    "            self.loss = tf.reduce_mean(losses) + self.config[\"l2RegLambda\"] * l2Loss\n",
    "            \n",
    "            update_ops = tf.get_collection(tf.GraphKeys.UPDATE_OPS)\n",
    "            with tf.control_dependencies(update_ops):\n",
    "                self.train_op = tf.train.AdamOptimizer(\n",
    "                    self.config['learningRate']).minimize(self.loss, global_step=self.global_step_tensor)\n",
    "    \n",
    "    def init_saver(self):\n",
    "        '''\n",
    "        初始化用于保存模型的对象\n",
    "        '''\n",
    "        self.saver = tf.train.Saver(max_to_keep=self.config['max_to_keep'])"
   ]
  },
  {
   "cell_type": "markdown",
   "metadata": {},
   "source": [
    "## 定义训练类"
   ]
  },
  {
   "cell_type": "code",
   "execution_count": 5,
   "metadata": {
    "ExecuteTime": {
     "end_time": "2019-08-07T08:12:19.886517Z",
     "start_time": "2019-08-07T08:12:19.845300Z"
    }
   },
   "outputs": [],
   "source": [
    "class Trainer(BaseTrain):\n",
    "    def __init__(self, sess, model, data, config, logger):\n",
    "        '''\n",
    "        这里的data要求是元组的形式，data[0]是train对象，data[1]是eval对象\n",
    "        '''\n",
    "        super(Trainer, self).__init__(sess, model, data, config, logger)\n",
    "        self.train = data[0]\n",
    "        self.eval = data[1]\n",
    "        \n",
    "    def train_epoch(self):\n",
    "        # 定义迭代次数\n",
    "        num_iter_per_epoch = self.train.length // self.config[\"batch_size\"]\n",
    "        \n",
    "        for _ in tqdm(range(num_iter_per_epoch)):\n",
    "            loss, metrics, step = self.train_step()\n",
    "            train_acc, train_f_score = metrics['accuracy'], metrics['f_beta']\n",
    "            \n",
    "            ## 将训练过程的损失写入\n",
    "            summaries_dict = {\"loss\": loss, \n",
    "                             \"acc\": np.array(train_acc), \n",
    "                             \"f_score\": np.array(train_f_score)}\n",
    "            self.logger.summarize(step, summarizer=\"train\", scope=\"train_summary\",\n",
    "                                      summaries_dict=summaries_dict)\n",
    "            \n",
    "            if step % self.config[\"evaluateEvery\"] == 0: \n",
    "                print(\"Train —— Step: {} | Loss: {} | Acc: {} | F1_Score: {}\".format(\n",
    "                    step, loss, train_acc, train_f_score))\n",
    "                # 对测试集进行评估\n",
    "                eval_losses = []\n",
    "                eval_true = []\n",
    "                eval_pred = []\n",
    "                for batchEval in self.eval.iter_all(self.config[\"batch_size\"]):\n",
    "                    loss, predictions = self.eval_step(batchEval[0], batchEval[1])\n",
    "                    eval_losses.append(loss)\n",
    "                    eval_true.extend(batchEval[1])\n",
    "                    eval_pred.extend(predictions)\n",
    "                    \n",
    "                getMetric = Metric(np.array(eval_pred), np.array(eval_true), self.config)\n",
    "                metrics = getMetric.get_metrics()\n",
    "                loss_mean = np.round(np.mean(eval_losses), 5)\n",
    "                prec_mean = np.round(metrics['precision'], 5)\n",
    "                recall_mean = np.round(metrics['recall'], 5)\n",
    "                \n",
    "                time_str = datetime.datetime.now().strftime(\"%Y-%m-%d %H:%M:%S %p\")\n",
    "                \n",
    "                print(\"{} | Loss: {} | Precision: {} | Recall: {}\".format(time_str,\n",
    "                                                                         loss_mean,\n",
    "                                                                         prec_mean,\n",
    "                                                                         recall_mean))\n",
    "                summaries_dict = {\"loss\": np.array(loss_mean),\n",
    "                                 \"precision\": np.array(prec_mean),\n",
    "                                 \"recall\": np.array(recall_mean)}\n",
    "                self.logger.summarize(step, summarizer=\"test\", scope=\"test_summary\",\n",
    "                                     summaries_dict=summaries_dict)\n",
    "            if step % self.config[\"checkpointEvery\"] == 0: \n",
    "                self.model.save(self.sess)\n",
    "        \n",
    "    \n",
    "    def train_step(self):\n",
    "        batch_x, batch_y = next(self.train.next_batch(self.config[\"batch_size\"]))\n",
    "        feed_dict = {self.model.inputX: batch_x, self.model.inputY: batch_y,\n",
    "                    self.model.dropoutProb: self.config[\"dropoutProb\"]}\n",
    "        _, loss, predictions, step = self.sess.run([self.model.train_op,\n",
    "                                                   self.model.loss,\n",
    "                                                   self.model.predictions,\n",
    "                                                   self.model.global_step_tensor],\n",
    "                                                  feed_dict=feed_dict)\n",
    "        getMetric = Metric(predictions, batch_y, self.config)\n",
    "        metrics = getMetric.get_metrics()\n",
    "        \n",
    "        return loss, metrics, step \n",
    "    \n",
    "    def eval_step(self, batch_x, batch_y):\n",
    "        '''\n",
    "        使用验证集测试\n",
    "        '''\n",
    "        feed_dict = {self.model.inputX: batch_x, self.model.inputY: batch_y,\n",
    "                    self.model.dropoutProb: 1}\n",
    "        loss, predictions = self.sess.run([self.model.loss, self.model.predictions],\n",
    "                                         feed_dict=feed_dict)\n",
    "        \n",
    "            \n",
    "        return loss, predictions"
   ]
  },
  {
   "cell_type": "markdown",
   "metadata": {},
   "source": [
    "# 使用数据集进行训练"
   ]
  },
  {
   "cell_type": "markdown",
   "metadata": {},
   "source": [
    "## 使用IMDB数据集"
   ]
  },
  {
   "cell_type": "code",
   "execution_count": 6,
   "metadata": {
    "ExecuteTime": {
     "end_time": "2019-08-07T08:12:20.935865Z",
     "start_time": "2019-08-07T08:12:20.929191Z"
    }
   },
   "outputs": [],
   "source": [
    "def main():\n",
    "    path = \"../data/imdb/labeldTrain.csv\"\n",
    "    config = Config(path)\n",
    "    \n",
    "    create_dirs([config[\"summary_dir\"], config[\"checkpoint_dir\"]])\n",
    "    \n",
    "    data = Dataset(config)\n",
    "    \n",
    "    ## 生成训练集数据\n",
    "    data.dataGen(\"../data/imdb/\", prefix=\"imdb\")\n",
    "    \n",
    "    train_X, train_y, eval_X, eval_y = data.trainReviews, data.trainLabels, data.evalReviews, data.evalLabels\n",
    "    wordEmbedding, labels = data.wordEmbedding, data.labelList\n",
    "    \n",
    "    train_data = DataGenerator(train_X, train_y)\n",
    "    eval_data = DataGenerator(eval_X, eval_y)\n",
    "    pack_data = [train_data, eval_data]\n",
    "    \n",
    "    tf.reset_default_graph()\n",
    "    \n",
    "    # 设置计算图的配置\n",
    "    session_conf = tf.ConfigProto(allow_soft_placement=True, \n",
    "                                 log_device_placement=False)\n",
    "    session_conf.gpu_options.allow_growth = True\n",
    "    session_conf.gpu_options.per_process_gpu_memory_fraction = 0.9 \n",
    "    sess = tf.Session(config=session_conf)\n",
    "    \n",
    "    ## 创建一个实例\n",
    "    model = BiLSTM(config, wordEmbedding)\n",
    "    \n",
    "    logger = Logger(sess, config)\n",
    "    trainer = Trainer(sess, model, pack_data, config, logger)\n",
    "    \n",
    "    trainer.train_all()"
   ]
  },
  {
   "cell_type": "code",
   "execution_count": 7,
   "metadata": {
    "ExecuteTime": {
     "end_time": "2019-08-07T08:27:06.608727Z",
     "start_time": "2019-08-07T08:12:21.368757Z"
    }
   },
   "outputs": [
    {
     "name": "stdout",
     "output_type": "stream",
     "text": [
      "WARNING:tensorflow:From /home/chen/anaconda3/lib/python3.7/site-packages/tensorflow/python/framework/op_def_library.py:263: colocate_with (from tensorflow.python.framework.ops) is deprecated and will be removed in a future version.\n",
      "Instructions for updating:\n",
      "Colocations handled automatically by placer.\n",
      "WARNING:tensorflow:From <ipython-input-4-911cefff72bd>:33: LSTMCell.__init__ (from tensorflow.python.ops.rnn_cell_impl) is deprecated and will be removed in a future version.\n",
      "Instructions for updating:\n",
      "This class is equivalent as tf.keras.layers.LSTMCell, and will be replaced by that in Tensorflow 2.0.\n",
      "WARNING:tensorflow:From <ipython-input-4-911cefff72bd>:45: bidirectional_dynamic_rnn (from tensorflow.python.ops.rnn) is deprecated and will be removed in a future version.\n",
      "Instructions for updating:\n",
      "Please use `keras.layers.Bidirectional(keras.layers.RNN(cell))`, which is equivalent to this API\n",
      "WARNING:tensorflow:From /home/chen/anaconda3/lib/python3.7/site-packages/tensorflow/python/ops/rnn.py:443: dynamic_rnn (from tensorflow.python.ops.rnn) is deprecated and will be removed in a future version.\n",
      "Instructions for updating:\n",
      "Please use `keras.layers.RNN(cell)`, which is equivalent to this API\n",
      "WARNING:tensorflow:From /home/chen/anaconda3/lib/python3.7/site-packages/tensorflow/python/ops/rnn_cell_impl.py:1259: calling dropout (from tensorflow.python.ops.nn_ops) with keep_prob is deprecated and will be removed in a future version.\n",
      "Instructions for updating:\n",
      "Please use `rate` instead of `keep_prob`. Rate should be set to `rate = 1 - keep_prob`.\n",
      "\n",
      "WARNING: The TensorFlow contrib module will not be included in TensorFlow 2.0.\n",
      "For more information, please see:\n",
      "  * https://github.com/tensorflow/community/blob/master/rfcs/20180907-contrib-sunset.md\n",
      "  * https://github.com/tensorflow/addons\n",
      "If you depend on functionality not listed there, please file an issue.\n",
      "\n",
      "WARNING:tensorflow:From <ipython-input-4-911cefff72bd>:58: dense (from tensorflow.python.layers.core) is deprecated and will be removed in a future version.\n",
      "Instructions for updating:\n",
      "Use keras.layers.dense instead.\n",
      "WARNING:tensorflow:From /home/chen/anaconda3/lib/python3.7/site-packages/tensorflow/python/ops/array_grad.py:425: to_int32 (from tensorflow.python.ops.math_ops) is deprecated and will be removed in a future version.\n",
      "Instructions for updating:\n",
      "Use tf.cast instead.\n",
      "\n",
      "当前正处于第1次迭代\n"
     ]
    },
    {
     "data": {
      "application/vnd.jupyter.widget-view+json": {
       "model_id": "b688791c926e465ebce7b8eafa0ca107",
       "version_major": 2,
       "version_minor": 0
      },
      "text/plain": [
       "HBox(children=(IntProgress(value=0, max=312), HTML(value='')))"
      ]
     },
     "metadata": {},
     "output_type": "display_data"
    },
    {
     "name": "stdout",
     "output_type": "stream",
     "text": [
      "Train —— Step: 100 | Loss: 0.6788748502731323 | Acc: 0.53125 | F1_Score: 0.64286\n",
      "2019-08-07 16:13:23 PM | Loss: 0.6908699870109558 | Precision: 0.50661 | Recall: 0.99963\n",
      "Saving model...\n",
      "Model saved\n",
      "Train —— Step: 200 | Loss: 0.7004097700119019 | Acc: 0.51562 | F1_Score: 0.4151\n",
      "2019-08-07 16:14:09 PM | Loss: 0.6825199723243713 | Precision: 0.65393 | Recall: 0.1799\n",
      "Saving model...\n",
      "Model saved\n",
      "Train —— Step: 300 | Loss: 0.653802752494812 | Acc: 0.625 | F1_Score: 0.5\n",
      "2019-08-07 16:14:56 PM | Loss: 0.6627399921417236 | Precision: 0.6888 | Recall: 0.28096\n",
      "Saving model...\n",
      "Model saved\n",
      "\n",
      "\n",
      "当前正处于第2次迭代\n"
     ]
    },
    {
     "data": {
      "application/vnd.jupyter.widget-view+json": {
       "model_id": "612b10b1f4814ff9a150b77f9805757a",
       "version_major": 2,
       "version_minor": 0
      },
      "text/plain": [
       "HBox(children=(IntProgress(value=0, max=312), HTML(value='')))"
      ]
     },
     "metadata": {},
     "output_type": "display_data"
    },
    {
     "name": "stdout",
     "output_type": "stream",
     "text": [
      "Train —— Step: 400 | Loss: 0.6164913177490234 | Acc: 0.67188 | F1_Score: 0.75862\n",
      "2019-08-07 16:15:43 PM | Loss: 0.6803799867630005 | Precision: 0.59018 | Recall: 0.96562\n",
      "Saving model...\n",
      "Model saved\n",
      "Train —— Step: 500 | Loss: 0.6778290271759033 | Acc: 0.57812 | F1_Score: 0.69663\n",
      "2019-08-07 16:16:30 PM | Loss: 0.690280020236969 | Precision: 0.51094 | Recall: 0.8462\n",
      "Saving model...\n",
      "Model saved\n",
      "Train —— Step: 600 | Loss: 0.6390670537948608 | Acc: 0.60938 | F1_Score: 0.62686\n",
      "2019-08-07 16:17:16 PM | Loss: 0.6619700193405151 | Precision: 0.81848 | Recall: 0.38994\n",
      "Saving model...\n",
      "WARNING:tensorflow:From /home/chen/anaconda3/lib/python3.7/site-packages/tensorflow/python/training/saver.py:966: remove_checkpoint (from tensorflow.python.training.checkpoint_management) is deprecated and will be removed in a future version.\n",
      "Instructions for updating:\n",
      "Use standard file APIs to delete files with this prefix.\n",
      "Model saved\n",
      "\n",
      "\n",
      "当前正处于第3次迭代\n"
     ]
    },
    {
     "data": {
      "application/vnd.jupyter.widget-view+json": {
       "model_id": "c8cd538b7f34415890fbe4dcefadb647",
       "version_major": 2,
       "version_minor": 0
      },
      "text/plain": [
       "HBox(children=(IntProgress(value=0, max=312), HTML(value='')))"
      ]
     },
     "metadata": {},
     "output_type": "display_data"
    },
    {
     "name": "stdout",
     "output_type": "stream",
     "text": [
      "Train —— Step: 700 | Loss: 0.5293903350830078 | Acc: 0.6875 | F1_Score: 0.81132\n",
      "2019-08-07 16:18:00 PM | Loss: 0.6859999895095825 | Precision: 0.52036 | Recall: 0.99347\n",
      "Saving model...\n",
      "Model saved\n",
      "Train —— Step: 800 | Loss: 0.32116228342056274 | Acc: 0.84375 | F1_Score: 0.83871\n",
      "2019-08-07 16:18:45 PM | Loss: 0.3912000060081482 | Precision: 0.8764 | Recall: 0.78488\n",
      "Saving model...\n",
      "Model saved\n",
      "Train —— Step: 900 | Loss: 0.2669948637485504 | Acc: 0.90625 | F1_Score: 0.91176\n",
      "2019-08-07 16:19:30 PM | Loss: 0.33910998702049255 | Precision: 0.83958 | Recall: 0.89099\n",
      "Saving model...\n",
      "Model saved\n",
      "\n",
      "\n",
      "当前正处于第4次迭代\n"
     ]
    },
    {
     "data": {
      "application/vnd.jupyter.widget-view+json": {
       "model_id": "002a9b633f134829b6dd9313eb44867f",
       "version_major": 2,
       "version_minor": 0
      },
      "text/plain": [
       "HBox(children=(IntProgress(value=0, max=312), HTML(value='')))"
      ]
     },
     "metadata": {},
     "output_type": "display_data"
    },
    {
     "name": "stdout",
     "output_type": "stream",
     "text": [
      "Train —— Step: 1000 | Loss: 0.2796424329280853 | Acc: 0.875 | F1_Score: 0.88889\n",
      "2019-08-07 16:20:17 PM | Loss: 0.3266099989414215 | Precision: 0.89983 | Recall: 0.82441\n",
      "Saving model...\n",
      "Model saved\n",
      "Train —— Step: 1100 | Loss: 0.11097978055477142 | Acc: 0.95312 | F1_Score: 0.95082\n",
      "2019-08-07 16:21:04 PM | Loss: 0.3210200071334839 | Precision: 0.90079 | Recall: 0.83189\n",
      "Saving model...\n",
      "Model saved\n",
      "Train —— Step: 1200 | Loss: 0.10077868402004242 | Acc: 0.96875 | F1_Score: 0.96667\n",
      "2019-08-07 16:21:50 PM | Loss: 0.36357998847961426 | Precision: 0.9098 | Recall: 0.81362\n",
      "Saving model...\n",
      "Model saved\n",
      "\n",
      "\n",
      "当前正处于第5次迭代\n"
     ]
    },
    {
     "data": {
      "application/vnd.jupyter.widget-view+json": {
       "model_id": "36792c9fc46c442582fb78b87476eac3",
       "version_major": 2,
       "version_minor": 0
      },
      "text/plain": [
       "HBox(children=(IntProgress(value=0, max=312), HTML(value='')))"
      ]
     },
     "metadata": {},
     "output_type": "display_data"
    },
    {
     "name": "stdout",
     "output_type": "stream",
     "text": [
      "Train —— Step: 1300 | Loss: 0.05362792685627937 | Acc: 1.0 | F1_Score: 1.0\n",
      "2019-08-07 16:22:37 PM | Loss: 0.35071998834609985 | Precision: 0.87359 | Recall: 0.87824\n",
      "Saving model...\n",
      "Model saved\n",
      "Train —— Step: 1400 | Loss: 0.2135436236858368 | Acc: 0.95312 | F1_Score: 0.95238\n",
      "2019-08-07 16:23:26 PM | Loss: 0.42054998874664307 | Precision: 0.92283 | Recall: 0.78202\n",
      "Saving model...\n",
      "Model saved\n",
      "Train —— Step: 1500 | Loss: 0.08707692474126816 | Acc: 0.96875 | F1_Score: 0.96428\n",
      "2019-08-07 16:24:15 PM | Loss: 0.3658500015735626 | Precision: 0.86347 | Recall: 0.90634\n",
      "Saving model...\n",
      "Model saved\n",
      "\n",
      "\n",
      "当前正处于第6次迭代\n"
     ]
    },
    {
     "data": {
      "application/vnd.jupyter.widget-view+json": {
       "model_id": "16a03df99abe42d78157fc68f624e9ee",
       "version_major": 2,
       "version_minor": 0
      },
      "text/plain": [
       "HBox(children=(IntProgress(value=0, max=312), HTML(value='')))"
      ]
     },
     "metadata": {},
     "output_type": "display_data"
    },
    {
     "name": "stdout",
     "output_type": "stream",
     "text": [
      "Train —— Step: 1600 | Loss: 0.08929283916950226 | Acc: 0.96875 | F1_Score: 0.97369\n",
      "2019-08-07 16:25:04 PM | Loss: 0.35175999999046326 | Precision: 0.93157 | Recall: 0.74715\n",
      "Saving model...\n",
      "Model saved\n",
      "Train —— Step: 1700 | Loss: 0.170895516872406 | Acc: 0.95312 | F1_Score: 0.94915\n",
      "2019-08-07 16:25:52 PM | Loss: 0.5068100094795227 | Precision: 0.93019 | Recall: 0.76063\n",
      "Saving model...\n",
      "Model saved\n",
      "Train —— Step: 1800 | Loss: 0.041507914662361145 | Acc: 0.98438 | F1_Score: 0.98462\n",
      "2019-08-07 16:26:40 PM | Loss: 0.3705100119113922 | Precision: 0.88491 | Recall: 0.87154\n",
      "Saving model...\n",
      "Model saved\n",
      "\n"
     ]
    }
   ],
   "source": [
    "main()"
   ]
  },
  {
   "cell_type": "markdown",
   "metadata": {},
   "source": [
    "- 最终结果 —— Precision: 0.8849, Recall: 0.87154"
   ]
  },
  {
   "cell_type": "markdown",
   "metadata": {},
   "source": [
    "## 使用yelps数据集"
   ]
  },
  {
   "cell_type": "code",
   "execution_count": 9,
   "metadata": {
    "ExecuteTime": {
     "end_time": "2019-08-07T08:31:25.151551Z",
     "start_time": "2019-08-07T08:31:25.145628Z"
    }
   },
   "outputs": [],
   "source": [
    "def main():\n",
    "    path = \"../data/yelps/yelps_test.csv\"\n",
    "    config = Config(path)\n",
    "    config[\"summary_dir\"] = \"../model/BiLSTM/yelps/summary\"\n",
    "    config[\"checkpoint_dir\"] = \"../model/BiLSTM/yelps/checkpoint\"\n",
    "    config['evaluateEvery'] = 500 \n",
    "    config['checkpointEvery'] = 500 \n",
    "    \n",
    "    \n",
    "    create_dirs([config[\"summary_dir\"], config[\"checkpoint_dir\"]])\n",
    "    \n",
    "    data = Dataset(config)\n",
    "    \n",
    "    ## 生成训练集数据\n",
    "    data.dataGen(\"../data/yelps/\", prefix=\"yelps\")\n",
    "    \n",
    "    train_X, train_y, eval_X, eval_y = data.trainReviews, data.trainLabels, data.evalReviews, data.evalLabels\n",
    "    wordEmbedding, labels = data.wordEmbedding, data.labelList\n",
    "    \n",
    "    train_data = DataGenerator(train_X, train_y)\n",
    "    eval_data = DataGenerator(eval_X, eval_y)\n",
    "    pack_data = [train_data, eval_data]\n",
    "    \n",
    "    tf.reset_default_graph()\n",
    "    \n",
    "    # 设置计算图的配置\n",
    "    session_conf = tf.ConfigProto(allow_soft_placement=True, \n",
    "                                 log_device_placement=False)\n",
    "    session_conf.gpu_options.allow_growth = True\n",
    "    session_conf.gpu_options.per_process_gpu_memory_fraction = 0.9 \n",
    "    sess = tf.Session(config=session_conf)\n",
    "    \n",
    "    ## 创建一个实例\n",
    "    model = BiLSTM(config, wordEmbedding)\n",
    "    \n",
    "    logger = Logger(sess, config)\n",
    "    trainer = Trainer(sess, model, pack_data, config, logger)\n",
    "    \n",
    "    trainer.train_all()"
   ]
  },
  {
   "cell_type": "code",
   "execution_count": 10,
   "metadata": {
    "ExecuteTime": {
     "end_time": "2019-08-07T23:40:34.665894Z",
     "start_time": "2019-08-07T08:31:31.123994Z"
    },
    "scrolled": true
   },
   "outputs": [
    {
     "name": "stdout",
     "output_type": "stream",
     "text": [
      "\n",
      "当前正处于第1次迭代\n"
     ]
    },
    {
     "data": {
      "application/vnd.jupyter.widget-view+json": {
       "model_id": "b4771ea87a8b4827ac85ad5b3084ba0e",
       "version_major": 2,
       "version_minor": 0
      },
      "text/plain": [
       "HBox(children=(IntProgress(value=0, max=8939), HTML(value='')))"
      ]
     },
     "metadata": {},
     "output_type": "display_data"
    },
    {
     "name": "stdout",
     "output_type": "stream",
     "text": [
      "Train —— Step: 500 | Loss: 0.602176308631897 | Acc: 0.71875 | F1_Score: 0.83334\n",
      "2019-08-07 16:40:32 PM | Loss: 0.6355599761009216 | Precision: 0.67384 | Recall: 0.95684\n",
      "Saving model...\n",
      "Model saved\n",
      "Train —— Step: 1000 | Loss: 0.5355428457260132 | Acc: 0.75 | F1_Score: 0.79487\n",
      "2019-08-07 16:48:48 PM | Loss: 0.592739999294281 | Precision: 0.81538 | Recall: 0.65269\n",
      "Saving model...\n",
      "Model saved\n",
      "Train —— Step: 1500 | Loss: 0.6322532892227173 | Acc: 0.67188 | F1_Score: 0.79208\n",
      "2019-08-07 16:57:25 PM | Loss: 0.6322199702262878 | Precision: 0.6709 | Recall: 0.98431\n",
      "Saving model...\n",
      "Model saved\n",
      "Train —— Step: 2000 | Loss: 0.265129417181015 | Acc: 0.90625 | F1_Score: 0.93333\n",
      "2019-08-07 17:05:29 PM | Loss: 0.344539999961853 | Precision: 0.89429 | Recall: 0.91869\n",
      "Saving model...\n",
      "Model saved\n",
      "Train —— Step: 2500 | Loss: 0.3048836886882782 | Acc: 0.90625 | F1_Score: 0.9375\n",
      "2019-08-07 17:13:41 PM | Loss: 0.2709900140762329 | Precision: 0.91541 | Recall: 0.92105\n",
      "Saving model...\n",
      "Model saved\n",
      "Train —— Step: 3000 | Loss: 0.19659966230392456 | Acc: 0.90625 | F1_Score: 0.92683\n",
      "2019-08-07 17:21:49 PM | Loss: 0.26003000140190125 | Precision: 0.91904 | Recall: 0.92524\n",
      "Saving model...\n",
      "Model saved\n",
      "Train —— Step: 3500 | Loss: 0.37474533915519714 | Acc: 0.79688 | F1_Score: 0.85393\n",
      "2019-08-07 17:29:56 PM | Loss: 0.2511099874973297 | Precision: 0.91357 | Recall: 0.93747\n",
      "Saving model...\n",
      "Model saved\n",
      "Train —— Step: 4000 | Loss: 0.25632718205451965 | Acc: 0.90625 | F1_Score: 0.93182\n",
      "2019-08-07 17:38:03 PM | Loss: 0.2485000044107437 | Precision: 0.91734 | Recall: 0.93889\n",
      "Saving model...\n",
      "Model saved\n",
      "Train —— Step: 4500 | Loss: 0.17199130356311798 | Acc: 0.95312 | F1_Score: 0.96629\n",
      "2019-08-07 17:46:06 PM | Loss: 0.24400000274181366 | Precision: 0.92145 | Recall: 0.93305\n",
      "Saving model...\n",
      "Model saved\n",
      "Train —— Step: 5000 | Loss: 0.2202761173248291 | Acc: 0.92188 | F1_Score: 0.93976\n",
      "2019-08-07 17:54:16 PM | Loss: 0.23351000249385834 | Precision: 0.91905 | Recall: 0.93988\n",
      "Saving model...\n",
      "Model saved\n",
      "Train —— Step: 5500 | Loss: 0.24618947505950928 | Acc: 0.89062 | F1_Score: 0.91954\n",
      "2019-08-07 18:02:29 PM | Loss: 0.2349099963903427 | Precision: 0.90305 | Recall: 0.95847\n",
      "Saving model...\n",
      "Model saved\n",
      "Train —— Step: 6000 | Loss: 0.24839943647384644 | Acc: 0.92188 | F1_Score: 0.93827\n",
      "2019-08-07 18:10:40 PM | Loss: 0.23463000357151031 | Precision: 0.92371 | Recall: 0.93376\n",
      "Saving model...\n",
      "Model saved\n",
      "Train —— Step: 6500 | Loss: 0.1739262491464615 | Acc: 0.92188 | F1_Score: 0.94737\n",
      "2019-08-07 18:19:53 PM | Loss: 0.22770999372005463 | Precision: 0.90796 | Recall: 0.95551\n",
      "Saving model...\n",
      "Model saved\n",
      "Train —— Step: 7000 | Loss: 0.2539370059967041 | Acc: 0.85938 | F1_Score: 0.89887\n",
      "2019-08-07 18:28:39 PM | Loss: 0.2341099977493286 | Precision: 0.89995 | Recall: 0.96254\n",
      "Saving model...\n",
      "Model saved\n",
      "Train —— Step: 7500 | Loss: 0.24547672271728516 | Acc: 0.89062 | F1_Score: 0.92135\n",
      "2019-08-07 18:36:43 PM | Loss: 0.22450999915599823 | Precision: 0.90951 | Recall: 0.95515\n",
      "Saving model...\n",
      "Model saved\n",
      "Train —— Step: 8000 | Loss: 0.14059576392173767 | Acc: 0.96875 | F1_Score: 0.97778\n",
      "2019-08-07 18:44:49 PM | Loss: 0.22423000633716583 | Precision: 0.91853 | Recall: 0.94583\n",
      "Saving model...\n",
      "Model saved\n",
      "Train —— Step: 8500 | Loss: 0.1872180700302124 | Acc: 0.92188 | F1_Score: 0.94737\n",
      "2019-08-07 18:52:54 PM | Loss: 0.22109000384807587 | Precision: 0.91465 | Recall: 0.95177\n",
      "Saving model...\n",
      "Model saved\n",
      "\n",
      "\n",
      "当前正处于第2次迭代\n"
     ]
    },
    {
     "data": {
      "application/vnd.jupyter.widget-view+json": {
       "model_id": "eb5d79e53755400b9b882bdecfac3ab1",
       "version_major": 2,
       "version_minor": 0
      },
      "text/plain": [
       "HBox(children=(IntProgress(value=0, max=8939), HTML(value='')))"
      ]
     },
     "metadata": {},
     "output_type": "display_data"
    },
    {
     "name": "stdout",
     "output_type": "stream",
     "text": [
      "Train —— Step: 9000 | Loss: 0.3147425651550293 | Acc: 0.89062 | F1_Score: 0.90666\n",
      "2019-08-07 19:01:06 PM | Loss: 0.22346000373363495 | Precision: 0.92731 | Recall: 0.93644\n",
      "Saving model...\n",
      "Model saved\n",
      "Train —— Step: 9500 | Loss: 0.21113228797912598 | Acc: 0.90625 | F1_Score: 0.93023\n",
      "2019-08-07 19:09:16 PM | Loss: 0.23260000348091125 | Precision: 0.90981 | Recall: 0.95605\n",
      "Saving model...\n",
      "Model saved\n",
      "Train —— Step: 10000 | Loss: 0.1315956711769104 | Acc: 0.95312 | F1_Score: 0.96296\n",
      "2019-08-07 19:17:26 PM | Loss: 0.22418999671936035 | Precision: 0.93324 | Recall: 0.92839\n",
      "Saving model...\n",
      "Model saved\n",
      "Train —— Step: 10500 | Loss: 0.22049115598201752 | Acc: 0.875 | F1_Score: 0.9\n",
      "2019-08-07 19:25:39 PM | Loss: 0.22544999420642853 | Precision: 0.904 | Recall: 0.96269\n",
      "Saving model...\n",
      "Model saved\n",
      "Train —— Step: 11000 | Loss: 0.3426017463207245 | Acc: 0.85938 | F1_Score: 0.88889\n",
      "2019-08-07 19:33:48 PM | Loss: 0.22436000406742096 | Precision: 0.91202 | Recall: 0.95595\n",
      "Saving model...\n",
      "Model saved\n",
      "Train —— Step: 11500 | Loss: 0.18247397243976593 | Acc: 0.92188 | F1_Score: 0.93671\n",
      "2019-08-07 19:41:58 PM | Loss: 0.2222999930381775 | Precision: 0.91183 | Recall: 0.95692\n",
      "Saving model...\n",
      "Model saved\n",
      "Train —— Step: 12000 | Loss: 0.13233722746372223 | Acc: 0.96875 | F1_Score: 0.97675\n",
      "2019-08-07 19:50:05 PM | Loss: 0.2178100049495697 | Precision: 0.92035 | Recall: 0.94699\n",
      "Saving model...\n",
      "Model saved\n",
      "Train —— Step: 12500 | Loss: 0.24978235363960266 | Acc: 0.89062 | F1_Score: 0.91566\n",
      "2019-08-07 19:58:16 PM | Loss: 0.21818000078201294 | Precision: 0.92806 | Recall: 0.93774\n",
      "Saving model...\n",
      "Model saved\n",
      "Train —— Step: 13000 | Loss: 0.1291346251964569 | Acc: 0.95312 | F1_Score: 0.96104\n",
      "2019-08-07 20:06:22 PM | Loss: 0.22519999742507935 | Precision: 0.92062 | Recall: 0.94679\n",
      "Saving model...\n",
      "Model saved\n",
      "Train —— Step: 13500 | Loss: 0.16790401935577393 | Acc: 0.9375 | F1_Score: 0.95238\n",
      "2019-08-07 20:14:35 PM | Loss: 0.2210099995136261 | Precision: 0.92721 | Recall: 0.94077\n",
      "Saving model...\n",
      "Model saved\n",
      "Train —— Step: 14000 | Loss: 0.20445089042186737 | Acc: 0.92188 | F1_Score: 0.94118\n",
      "2019-08-07 20:23:16 PM | Loss: 0.21884000301361084 | Precision: 0.91683 | Recall: 0.95232\n",
      "Saving model...\n",
      "Model saved\n",
      "Train —— Step: 14500 | Loss: 0.1522785872220993 | Acc: 0.95312 | F1_Score: 0.96774\n",
      "2019-08-07 20:31:26 PM | Loss: 0.22822000086307526 | Precision: 0.92922 | Recall: 0.93566\n",
      "Saving model...\n",
      "Model saved\n",
      "Train —— Step: 15000 | Loss: 0.14929881691932678 | Acc: 0.92188 | F1_Score: 0.93333\n",
      "2019-08-07 20:39:43 PM | Loss: 0.22680999338626862 | Precision: 0.91548 | Recall: 0.95382\n",
      "Saving model...\n",
      "Model saved\n",
      "Train —— Step: 15500 | Loss: 0.23641470074653625 | Acc: 0.89062 | F1_Score: 0.91566\n",
      "2019-08-07 20:47:52 PM | Loss: 0.22224000096321106 | Precision: 0.92081 | Recall: 0.94769\n",
      "Saving model...\n",
      "Model saved\n",
      "Train —— Step: 16000 | Loss: 0.2704833149909973 | Acc: 0.90625 | F1_Score: 0.91176\n",
      "2019-08-07 20:56:04 PM | Loss: 0.22404000163078308 | Precision: 0.91884 | Recall: 0.94775\n",
      "Saving model...\n",
      "Model saved\n",
      "Train —— Step: 16500 | Loss: 0.17914286255836487 | Acc: 0.89062 | F1_Score: 0.92135\n",
      "2019-08-07 21:04:10 PM | Loss: 0.22065000236034393 | Precision: 0.92022 | Recall: 0.94927\n",
      "Saving model...\n",
      "Model saved\n",
      "Train —— Step: 17000 | Loss: 0.3519856631755829 | Acc: 0.85938 | F1_Score: 0.88312\n",
      "2019-08-07 21:12:17 PM | Loss: 0.2210800051689148 | Precision: 0.92113 | Recall: 0.94741\n",
      "Saving model...\n",
      "Model saved\n",
      "Train —— Step: 17500 | Loss: 0.17370310425758362 | Acc: 0.92188 | F1_Score: 0.94253\n",
      "2019-08-07 21:20:22 PM | Loss: 0.22684000432491302 | Precision: 0.93013 | Recall: 0.934\n",
      "Saving model...\n",
      "Model saved\n",
      "\n",
      "\n",
      "当前正处于第3次迭代\n"
     ]
    },
    {
     "data": {
      "application/vnd.jupyter.widget-view+json": {
       "model_id": "51fb1e28f1c54589902654896ac47e85",
       "version_major": 2,
       "version_minor": 0
      },
      "text/plain": [
       "HBox(children=(IntProgress(value=0, max=8939), HTML(value='')))"
      ]
     },
     "metadata": {},
     "output_type": "display_data"
    },
    {
     "name": "stdout",
     "output_type": "stream",
     "text": [
      "Train —— Step: 18000 | Loss: 0.20320135354995728 | Acc: 0.90625 | F1_Score: 0.925\n",
      "2019-08-07 21:28:30 PM | Loss: 0.22353999316692352 | Precision: 0.91757 | Recall: 0.95004\n",
      "Saving model...\n",
      "Model saved\n",
      "Train —— Step: 18500 | Loss: 0.3349512219429016 | Acc: 0.875 | F1_Score: 0.90476\n",
      "2019-08-07 21:36:36 PM | Loss: 0.22429999709129333 | Precision: 0.92588 | Recall: 0.93966\n",
      "Saving model...\n",
      "Model saved\n",
      "Train —— Step: 19000 | Loss: 0.1569259762763977 | Acc: 0.9375 | F1_Score: 0.95122\n",
      "2019-08-07 21:44:43 PM | Loss: 0.22247999906539917 | Precision: 0.91913 | Recall: 0.94833\n",
      "Saving model...\n",
      "Model saved\n",
      "Train —— Step: 19500 | Loss: 0.18530502915382385 | Acc: 0.90625 | F1_Score: 0.9375\n",
      "2019-08-07 21:52:56 PM | Loss: 0.22425000369548798 | Precision: 0.92476 | Recall: 0.94103\n",
      "Saving model...\n",
      "Model saved\n",
      "Train —— Step: 20000 | Loss: 0.3287199139595032 | Acc: 0.85938 | F1_Score: 0.87672\n",
      "2019-08-07 22:01:04 PM | Loss: 0.22673000395298004 | Precision: 0.92381 | Recall: 0.94239\n",
      "Saving model...\n",
      "Model saved\n",
      "Train —— Step: 20500 | Loss: 0.1959175169467926 | Acc: 0.92188 | F1_Score: 0.94382\n",
      "2019-08-07 22:09:41 PM | Loss: 0.2233700007200241 | Precision: 0.92568 | Recall: 0.94145\n",
      "Saving model...\n",
      "Model saved\n",
      "Train —— Step: 21000 | Loss: 0.10448641330003738 | Acc: 0.98438 | F1_Score: 0.98823\n",
      "2019-08-07 22:17:53 PM | Loss: 0.23015999794006348 | Precision: 0.92124 | Recall: 0.94655\n",
      "Saving model...\n",
      "Model saved\n",
      "Train —— Step: 21500 | Loss: 0.2025035172700882 | Acc: 0.95312 | F1_Score: 0.96552\n",
      "2019-08-07 22:26:03 PM | Loss: 0.22285999357700348 | Precision: 0.92731 | Recall: 0.93819\n",
      "Saving model...\n",
      "Model saved\n",
      "Train —— Step: 22000 | Loss: 0.1174592450261116 | Acc: 0.95312 | F1_Score: 0.96842\n",
      "2019-08-07 22:34:12 PM | Loss: 0.25457000732421875 | Precision: 0.93161 | Recall: 0.93168\n",
      "Saving model...\n",
      "Model saved\n",
      "Train —— Step: 22500 | Loss: 0.2399202585220337 | Acc: 0.9375 | F1_Score: 0.95555\n",
      "2019-08-07 22:42:25 PM | Loss: 0.2250799983739853 | Precision: 0.92638 | Recall: 0.9385\n",
      "Saving model...\n",
      "Model saved\n",
      "Train —— Step: 23000 | Loss: 0.24855396151542664 | Acc: 0.92188 | F1_Score: 0.94117\n",
      "2019-08-07 22:50:30 PM | Loss: 0.2287600040435791 | Precision: 0.93434 | Recall: 0.92601\n",
      "Saving model...\n",
      "Model saved\n",
      "Train —— Step: 23500 | Loss: 0.166466623544693 | Acc: 0.92188 | F1_Score: 0.92958\n",
      "2019-08-07 22:58:41 PM | Loss: 0.24062000215053558 | Precision: 0.92394 | Recall: 0.93941\n",
      "Saving model...\n",
      "Model saved\n",
      "Train —— Step: 24000 | Loss: 0.2095644474029541 | Acc: 0.92188 | F1_Score: 0.94382\n",
      "2019-08-07 23:06:51 PM | Loss: 0.2328999936580658 | Precision: 0.9156 | Recall: 0.95129\n",
      "Saving model...\n",
      "Model saved\n",
      "Train —— Step: 24500 | Loss: 0.14785435795783997 | Acc: 0.9375 | F1_Score: 0.95349\n",
      "2019-08-07 23:15:03 PM | Loss: 0.22633999586105347 | Precision: 0.91848 | Recall: 0.94832\n",
      "Saving model...\n",
      "Model saved\n",
      "Train —— Step: 25000 | Loss: 0.15697090327739716 | Acc: 0.92188 | F1_Score: 0.94382\n",
      "2019-08-07 23:23:07 PM | Loss: 0.23547999560832977 | Precision: 0.93334 | Recall: 0.9254\n",
      "Saving model...\n",
      "Model saved\n",
      "Train —— Step: 25500 | Loss: 0.08656162023544312 | Acc: 0.98438 | F1_Score: 0.98948\n",
      "2019-08-07 23:31:28 PM | Loss: 0.23141999542713165 | Precision: 0.9303 | Recall: 0.92892\n",
      "Saving model...\n",
      "Model saved\n",
      "Train —— Step: 26000 | Loss: 0.086094930768013 | Acc: 0.96875 | F1_Score: 0.97619\n",
      "2019-08-07 23:39:52 PM | Loss: 0.24379000067710876 | Precision: 0.918 | Recall: 0.94714\n",
      "Saving model...\n",
      "Model saved\n",
      "Train —— Step: 26500 | Loss: 0.11960060149431229 | Acc: 0.9375 | F1_Score: 0.95454\n",
      "2019-08-07 23:48:18 PM | Loss: 0.24316999316215515 | Precision: 0.90983 | Recall: 0.95599\n",
      "Saving model...\n",
      "Model saved\n",
      "\n",
      "\n",
      "当前正处于第4次迭代\n"
     ]
    },
    {
     "data": {
      "application/vnd.jupyter.widget-view+json": {
       "model_id": "fd0996b702f84fe4a22464c8d73ff6d6",
       "version_major": 2,
       "version_minor": 0
      },
      "text/plain": [
       "HBox(children=(IntProgress(value=0, max=8939), HTML(value='')))"
      ]
     },
     "metadata": {},
     "output_type": "display_data"
    },
    {
     "name": "stdout",
     "output_type": "stream",
     "text": [
      "Train —— Step: 27000 | Loss: 0.08539923280477524 | Acc: 0.96875 | F1_Score: 0.98039\n",
      "2019-08-07 23:56:48 PM | Loss: 0.23725999891757965 | Precision: 0.91834 | Recall: 0.94773\n",
      "Saving model...\n",
      "Model saved\n",
      "Train —— Step: 27500 | Loss: 0.16274616122245789 | Acc: 0.9375 | F1_Score: 0.94872\n",
      "2019-08-08 00:05:37 AM | Loss: 0.2337000072002411 | Precision: 0.92583 | Recall: 0.93624\n",
      "Saving model...\n",
      "Model saved\n",
      "Train —— Step: 28000 | Loss: 0.1835632026195526 | Acc: 0.95312 | F1_Score: 0.96629\n",
      "2019-08-08 00:14:07 AM | Loss: 0.23868000507354736 | Precision: 0.93032 | Recall: 0.92814\n",
      "Saving model...\n",
      "Model saved\n",
      "Train —— Step: 28500 | Loss: 0.15302756428718567 | Acc: 0.95312 | F1_Score: 0.96703\n",
      "2019-08-08 00:22:40 AM | Loss: 0.2508000135421753 | Precision: 0.92451 | Recall: 0.93367\n",
      "Saving model...\n",
      "Model saved\n",
      "Train —— Step: 29000 | Loss: 0.10080263763666153 | Acc: 0.96875 | F1_Score: 0.97778\n",
      "2019-08-08 00:30:58 AM | Loss: 0.25014999508857727 | Precision: 0.92737 | Recall: 0.93385\n",
      "Saving model...\n",
      "Model saved\n",
      "Train —— Step: 29500 | Loss: 0.14712239801883698 | Acc: 0.96875 | F1_Score: 0.97872\n",
      "2019-08-08 00:39:25 AM | Loss: 0.2449900060892105 | Precision: 0.91891 | Recall: 0.94409\n",
      "Saving model...\n",
      "Model saved\n",
      "Train —— Step: 30000 | Loss: 0.19424556195735931 | Acc: 0.95312 | F1_Score: 0.96385\n",
      "2019-08-08 00:47:55 AM | Loss: 0.2483700066804886 | Precision: 0.92044 | Recall: 0.94276\n",
      "Saving model...\n",
      "Model saved\n",
      "Train —— Step: 30500 | Loss: 0.0926140695810318 | Acc: 0.95312 | F1_Score: 0.96629\n",
      "2019-08-08 00:57:37 AM | Loss: 0.25720998644828796 | Precision: 0.9196 | Recall: 0.94358\n",
      "Saving model...\n",
      "Model saved\n",
      "Train —— Step: 31000 | Loss: 0.062289800494909286 | Acc: 0.98438 | F1_Score: 0.98734\n",
      "2019-08-08 01:05:55 AM | Loss: 0.26271000504493713 | Precision: 0.93058 | Recall: 0.92768\n",
      "Saving model...\n",
      "Model saved\n",
      "Train —— Step: 31500 | Loss: 0.11307784169912338 | Acc: 0.9375 | F1_Score: 0.95454\n",
      "2019-08-08 01:14:22 AM | Loss: 0.2588900029659271 | Precision: 0.92265 | Recall: 0.93699\n",
      "Saving model...\n",
      "Model saved\n",
      "Train —— Step: 32000 | Loss: 0.08698894083499908 | Acc: 0.95312 | F1_Score: 0.96552\n",
      "2019-08-08 01:23:20 AM | Loss: 0.2587299942970276 | Precision: 0.91515 | Recall: 0.94581\n",
      "Saving model...\n",
      "Model saved\n",
      "Train —— Step: 32500 | Loss: 0.2366590052843094 | Acc: 0.9375 | F1_Score: 0.95745\n",
      "2019-08-08 01:32:00 AM | Loss: 0.27584001421928406 | Precision: 0.91107 | Recall: 0.95493\n",
      "Saving model...\n",
      "Model saved\n",
      "Train —— Step: 33000 | Loss: 0.14706648886203766 | Acc: 0.98438 | F1_Score: 0.98877\n",
      "2019-08-08 01:40:39 AM | Loss: 0.2570199966430664 | Precision: 0.91734 | Recall: 0.94485\n",
      "Saving model...\n",
      "Model saved\n",
      "Train —— Step: 33500 | Loss: 0.05053488910198212 | Acc: 0.98438 | F1_Score: 0.98795\n",
      "2019-08-08 01:48:40 AM | Loss: 0.26023998856544495 | Precision: 0.92128 | Recall: 0.93772\n",
      "Saving model...\n",
      "Model saved\n",
      "Train —— Step: 34000 | Loss: 0.02852628380060196 | Acc: 1.0 | F1_Score: 1.0\n",
      "2019-08-08 01:58:34 AM | Loss: 0.2590999901294708 | Precision: 0.92224 | Recall: 0.93355\n",
      "Saving model...\n",
      "Model saved\n",
      "Train —— Step: 34500 | Loss: 0.1584542840719223 | Acc: 0.95312 | F1_Score: 0.95384\n",
      "2019-08-08 02:07:22 AM | Loss: 0.2602800130844116 | Precision: 0.92389 | Recall: 0.93509\n",
      "Saving model...\n",
      "Model saved\n",
      "Train —— Step: 35000 | Loss: 0.13655796647071838 | Acc: 0.95312 | F1_Score: 0.96703\n",
      "2019-08-08 02:15:57 AM | Loss: 0.26545000076293945 | Precision: 0.92293 | Recall: 0.93384\n",
      "Saving model...\n",
      "Model saved\n",
      "Train —— Step: 35500 | Loss: 0.06919972598552704 | Acc: 0.98438 | F1_Score: 0.98795\n",
      "2019-08-08 02:24:38 AM | Loss: 0.2649100124835968 | Precision: 0.91813 | Recall: 0.94173\n",
      "Saving model...\n",
      "Model saved\n",
      "\n",
      "\n",
      "当前正处于第5次迭代\n"
     ]
    },
    {
     "data": {
      "application/vnd.jupyter.widget-view+json": {
       "model_id": "e806e92ce0d34e6ca77af4ea7825a2da",
       "version_major": 2,
       "version_minor": 0
      },
      "text/plain": [
       "HBox(children=(IntProgress(value=0, max=8939), HTML(value='')))"
      ]
     },
     "metadata": {},
     "output_type": "display_data"
    },
    {
     "name": "stdout",
     "output_type": "stream",
     "text": [
      "Train —— Step: 36000 | Loss: 0.03554639592766762 | Acc: 0.98438 | F1_Score: 0.98795\n",
      "2019-08-08 02:32:54 AM | Loss: 0.2669999897480011 | Precision: 0.91977 | Recall: 0.943\n",
      "Saving model...\n",
      "Model saved\n",
      "Train —— Step: 36500 | Loss: 0.11708894371986389 | Acc: 0.95312 | F1_Score: 0.96774\n",
      "2019-08-08 02:41:33 AM | Loss: 0.26875999569892883 | Precision: 0.92794 | Recall: 0.92824\n",
      "Saving model...\n",
      "Model saved\n",
      "Train —— Step: 37000 | Loss: 0.0441308319568634 | Acc: 0.98438 | F1_Score: 0.98666\n",
      "2019-08-08 02:50:13 AM | Loss: 0.26993998885154724 | Precision: 0.92365 | Recall: 0.93188\n",
      "Saving model...\n",
      "Model saved\n",
      "Train —— Step: 37500 | Loss: 0.0383145734667778 | Acc: 0.98438 | F1_Score: 0.98823\n",
      "2019-08-08 02:58:48 AM | Loss: 0.2779400050640106 | Precision: 0.9383 | Recall: 0.90425\n",
      "Saving model...\n",
      "Model saved\n",
      "Train —— Step: 38000 | Loss: 0.11477693170309067 | Acc: 0.96875 | F1_Score: 0.97297\n",
      "2019-08-08 03:06:46 AM | Loss: 0.26673999428749084 | Precision: 0.92168 | Recall: 0.93544\n",
      "Saving model...\n",
      "Model saved\n",
      "Train —— Step: 38500 | Loss: 0.05138923227787018 | Acc: 0.96875 | F1_Score: 0.97619\n",
      "2019-08-08 03:14:45 AM | Loss: 0.2925400137901306 | Precision: 0.90822 | Recall: 0.95252\n",
      "Saving model...\n",
      "Model saved\n",
      "Train —— Step: 39000 | Loss: 0.21473482251167297 | Acc: 0.95312 | F1_Score: 0.96552\n",
      "2019-08-08 03:22:43 AM | Loss: 0.29506000876426697 | Precision: 0.91522 | Recall: 0.94433\n",
      "Saving model...\n",
      "Model saved\n",
      "Train —— Step: 39500 | Loss: 0.0750274583697319 | Acc: 0.95312 | F1_Score: 0.96629\n",
      "2019-08-08 03:30:43 AM | Loss: 0.2856599986553192 | Precision: 0.92084 | Recall: 0.93533\n",
      "Saving model...\n",
      "Model saved\n",
      "Train —— Step: 40000 | Loss: 0.24933935701847076 | Acc: 0.9375 | F1_Score: 0.95122\n",
      "2019-08-08 03:39:16 AM | Loss: 0.30785998702049255 | Precision: 0.92957 | Recall: 0.92142\n",
      "Saving model...\n",
      "Model saved\n",
      "Train —— Step: 40500 | Loss: 0.0537315234541893 | Acc: 0.98438 | F1_Score: 0.98795\n",
      "2019-08-08 03:48:39 AM | Loss: 0.2664099931716919 | Precision: 0.91726 | Recall: 0.93936\n",
      "Saving model...\n",
      "Model saved\n",
      "Train —— Step: 41000 | Loss: 0.060551226139068604 | Acc: 0.96875 | F1_Score: 0.97872\n",
      "2019-08-08 03:58:41 AM | Loss: 0.29978999495506287 | Precision: 0.91308 | Recall: 0.94682\n",
      "Saving model...\n",
      "Model saved\n",
      "Train —— Step: 41500 | Loss: 0.046690743416547775 | Acc: 0.98438 | F1_Score: 0.98795\n",
      "2019-08-08 04:07:33 AM | Loss: 0.2685999870300293 | Precision: 0.92174 | Recall: 0.93725\n",
      "Saving model...\n",
      "Model saved\n",
      "Train —— Step: 42000 | Loss: 0.0203041210770607 | Acc: 1.0 | F1_Score: 1.0\n",
      "2019-08-08 04:16:32 AM | Loss: 0.29499998688697815 | Precision: 0.91651 | Recall: 0.94025\n",
      "Saving model...\n",
      "Model saved\n",
      "Train —— Step: 42500 | Loss: 0.044195786118507385 | Acc: 0.96875 | F1_Score: 0.97561\n",
      "2019-08-08 04:25:26 AM | Loss: 0.2924399971961975 | Precision: 0.92368 | Recall: 0.9252\n",
      "Saving model...\n",
      "Model saved\n",
      "Train —— Step: 43000 | Loss: 0.06316567957401276 | Acc: 0.98438 | F1_Score: 0.98734\n",
      "2019-08-08 04:34:23 AM | Loss: 0.28481999039649963 | Precision: 0.91849 | Recall: 0.93915\n",
      "Saving model...\n",
      "Model saved\n",
      "Train —— Step: 43500 | Loss: 0.1149459034204483 | Acc: 0.9375 | F1_Score: 0.94872\n",
      "2019-08-08 04:43:15 AM | Loss: 0.287090003490448 | Precision: 0.91963 | Recall: 0.93563\n",
      "Saving model...\n",
      "Model saved\n",
      "Train —— Step: 44000 | Loss: 0.017155354842543602 | Acc: 1.0 | F1_Score: 1.0\n",
      "2019-08-08 04:52:09 AM | Loss: 0.2990100085735321 | Precision: 0.91915 | Recall: 0.93472\n",
      "Saving model...\n",
      "Model saved\n",
      "Train —— Step: 44500 | Loss: 0.011236806400120258 | Acc: 1.0 | F1_Score: 1.0\n",
      "2019-08-08 05:00:48 AM | Loss: 0.30667001008987427 | Precision: 0.92996 | Recall: 0.91341\n",
      "Saving model...\n",
      "Model saved\n",
      "\n",
      "\n",
      "当前正处于第6次迭代\n"
     ]
    },
    {
     "data": {
      "application/vnd.jupyter.widget-view+json": {
       "model_id": "26a48053a29a4bfb9bc5895f38b84302",
       "version_major": 2,
       "version_minor": 0
      },
      "text/plain": [
       "HBox(children=(IntProgress(value=0, max=8939), HTML(value='')))"
      ]
     },
     "metadata": {},
     "output_type": "display_data"
    },
    {
     "name": "stdout",
     "output_type": "stream",
     "text": [
      "Train —— Step: 45000 | Loss: 0.035265251994132996 | Acc: 1.0 | F1_Score: 1.0\n",
      "2019-08-08 05:08:46 AM | Loss: 0.27807000279426575 | Precision: 0.92854 | Recall: 0.92219\n",
      "Saving model...\n",
      "Model saved\n",
      "Train —— Step: 45500 | Loss: 0.12857815623283386 | Acc: 0.96875 | F1_Score: 0.97619\n",
      "2019-08-08 05:17:06 AM | Loss: 0.314300000667572 | Precision: 0.91819 | Recall: 0.93423\n",
      "Saving model...\n",
      "Model saved\n",
      "Train —— Step: 46000 | Loss: 0.12163420766592026 | Acc: 0.92188 | F1_Score: 0.94117\n",
      "2019-08-08 05:25:56 AM | Loss: 0.2884100079536438 | Precision: 0.92187 | Recall: 0.93216\n",
      "Saving model...\n",
      "Model saved\n",
      "Train —— Step: 46500 | Loss: 0.058673374354839325 | Acc: 0.96875 | F1_Score: 0.97436\n",
      "2019-08-08 05:34:28 AM | Loss: 0.29844000935554504 | Precision: 0.92269 | Recall: 0.93001\n",
      "Saving model...\n",
      "Model saved\n",
      "Train —— Step: 47000 | Loss: 0.02879524976015091 | Acc: 1.0 | F1_Score: 1.0\n",
      "2019-08-08 05:44:10 AM | Loss: 0.32006001472473145 | Precision: 0.92741 | Recall: 0.92079\n",
      "Saving model...\n",
      "Model saved\n",
      "Train —— Step: 47500 | Loss: 0.33354705572128296 | Acc: 0.92188 | F1_Score: 0.94117\n",
      "2019-08-08 05:53:15 AM | Loss: 0.29754000902175903 | Precision: 0.92166 | Recall: 0.93157\n",
      "Saving model...\n",
      "Model saved\n",
      "Train —— Step: 48000 | Loss: 0.07880456000566483 | Acc: 0.96875 | F1_Score: 0.97826\n",
      "2019-08-08 06:02:52 AM | Loss: 0.2939099967479706 | Precision: 0.91142 | Recall: 0.94129\n",
      "Saving model...\n",
      "Model saved\n",
      "Train —— Step: 48500 | Loss: 0.03474356606602669 | Acc: 0.98438 | F1_Score: 0.9863\n",
      "2019-08-08 06:11:49 AM | Loss: 0.3114599883556366 | Precision: 0.92641 | Recall: 0.92491\n",
      "Saving model...\n",
      "Model saved\n",
      "Train —— Step: 49000 | Loss: 0.028146589174866676 | Acc: 0.98438 | F1_Score: 0.98734\n",
      "2019-08-08 06:20:30 AM | Loss: 0.3255299925804138 | Precision: 0.92061 | Recall: 0.93\n",
      "Saving model...\n",
      "Model saved\n",
      "Train —— Step: 49500 | Loss: 0.04571215435862541 | Acc: 0.96875 | F1_Score: 0.97727\n",
      "2019-08-08 06:29:13 AM | Loss: 0.3179900050163269 | Precision: 0.92373 | Recall: 0.92819\n",
      "Saving model...\n",
      "Model saved\n",
      "Train —— Step: 50000 | Loss: 0.057554006576538086 | Acc: 1.0 | F1_Score: 1.0\n",
      "2019-08-08 06:37:58 AM | Loss: 0.32938000559806824 | Precision: 0.92324 | Recall: 0.92778\n",
      "Saving model...\n",
      "Model saved\n",
      "Train —— Step: 50500 | Loss: 0.02479834482073784 | Acc: 1.0 | F1_Score: 1.0\n",
      "2019-08-08 06:46:34 AM | Loss: 0.296099990606308 | Precision: 0.91754 | Recall: 0.93714\n",
      "Saving model...\n",
      "Model saved\n",
      "Train —— Step: 51000 | Loss: 0.19835443794727325 | Acc: 0.9375 | F1_Score: 0.94872\n",
      "2019-08-08 06:55:29 AM | Loss: 0.31731998920440674 | Precision: 0.93234 | Recall: 0.91096\n",
      "Saving model...\n",
      "Model saved\n",
      "Train —— Step: 51500 | Loss: 0.0951434075832367 | Acc: 0.96875 | F1_Score: 0.97959\n",
      "2019-08-08 07:04:25 AM | Loss: 0.3229700028896332 | Precision: 0.91207 | Recall: 0.93968\n",
      "Saving model...\n",
      "Model saved\n",
      "Train —— Step: 52000 | Loss: 0.027413005009293556 | Acc: 1.0 | F1_Score: 1.0\n",
      "2019-08-08 07:13:23 AM | Loss: 0.3186199963092804 | Precision: 0.92202 | Recall: 0.92494\n",
      "Saving model...\n",
      "Model saved\n",
      "Train —— Step: 52500 | Loss: 0.03969195485115051 | Acc: 0.98438 | F1_Score: 0.98969\n",
      "2019-08-08 07:21:39 AM | Loss: 0.3387100100517273 | Precision: 0.92172 | Recall: 0.92592\n",
      "Saving model...\n",
      "Model saved\n",
      "Train —— Step: 53000 | Loss: 0.08018305897712708 | Acc: 0.96875 | F1_Score: 0.97619\n",
      "2019-08-08 07:30:35 AM | Loss: 0.32927998900413513 | Precision: 0.91078 | Recall: 0.94092\n",
      "Saving model...\n",
      "Model saved\n",
      "Train —— Step: 53500 | Loss: 0.009927797131240368 | Acc: 1.0 | F1_Score: 1.0\n",
      "2019-08-08 07:39:37 AM | Loss: 0.3477799892425537 | Precision: 0.91988 | Recall: 0.92888\n",
      "Saving model...\n",
      "Model saved\n",
      "\n"
     ]
    }
   ],
   "source": [
    "main()"
   ]
  },
  {
   "cell_type": "markdown",
   "metadata": {},
   "source": [
    "最终结果 —— Precision: 0.91988, Recall: 0.92888"
   ]
  },
  {
   "cell_type": "code",
   "execution_count": null,
   "metadata": {},
   "outputs": [],
   "source": []
  }
 ],
 "metadata": {
  "kernelspec": {
   "display_name": "Python 3",
   "language": "python",
   "name": "python3"
  },
  "language_info": {
   "codemirror_mode": {
    "name": "ipython",
    "version": 3
   },
   "file_extension": ".py",
   "mimetype": "text/x-python",
   "name": "python",
   "nbconvert_exporter": "python",
   "pygments_lexer": "ipython3",
   "version": "3.7.4"
  },
  "toc": {
   "base_numbering": 1,
   "nav_menu": {},
   "number_sections": true,
   "sideBar": true,
   "skip_h1_title": false,
   "title_cell": "Table of Contents",
   "title_sidebar": "Contents",
   "toc_cell": false,
   "toc_position": {},
   "toc_section_display": true,
   "toc_window_display": false
  }
 },
 "nbformat": 4,
 "nbformat_minor": 2
}

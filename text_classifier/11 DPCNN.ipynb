{
 "cells": [
  {
   "cell_type": "code",
   "execution_count": 1,
   "metadata": {},
   "outputs": [],
   "source": [
    "import numpy as np \n",
    "import pandas as pd \n",
    "\n",
    "import json \n",
    "import warnings\n",
    "\n",
    "warnings.filterwarnings(\"ignore\")"
   ]
  },
  {
   "cell_type": "code",
   "execution_count": 2,
   "metadata": {},
   "outputs": [],
   "source": [
    "from utils  import * \n",
    "from collections import Counter \n",
    "from tqdm.autonotebook import tqdm "
   ]
  },
  {
   "cell_type": "code",
   "execution_count": 3,
   "metadata": {},
   "outputs": [],
   "source": [
    "import tensorflow as tf "
   ]
  },
  {
   "cell_type": "markdown",
   "metadata": {},
   "source": [
    "# 1.定义基本的配置类"
   ]
  },
  {
   "cell_type": "code",
   "execution_count": 4,
   "metadata": {},
   "outputs": [],
   "source": [
    "class Config(dict):\n",
    "    def __init__(self, path=None):\n",
    "        super().__init__()\n",
    "        ## 定义训练参数\n",
    "        self['num_epochs'] = 5 \n",
    "        self['evaluateEvery'] = 100 \n",
    "        self['checkpointEvery'] = 100 \n",
    "        ## 学习率衰减\n",
    "        self['learningRate'] = 0.03 \n",
    "        self['decay_steps'] = 100    ## 学习率衰减的step\n",
    "        self['decay_rate'] = 0.9  ## 学习率每次衰减的幅度\n",
    "        self['grad_clip'] = 4.0   ## 梯度削减\n",
    "        \n",
    "        ## 定义模型参数\n",
    "        self['embeddingSize'] = 200 \n",
    "        #self['filterSizes'] = [3, 4, 5]\n",
    "        #self['hiddenSize'] = 256\n",
    "        self['kernelSize'] = 3    # 区域卷积的参数，类似于n-gram\n",
    "        #self['cellSize'] = 50\n",
    "        self['num_filters'] = 250  # 表示区域嵌入层滤波器的个数\n",
    "        #self['strides'] = 2 \n",
    "        self['dropoutProb'] = 0.7\n",
    "        self['l2RegLambda'] = 0.0001\n",
    "        \n",
    "        ## 定义基础参数\n",
    "        self['sequenceLength'] = 200 \n",
    "        self['batch_size'] = 64\n",
    "        self['dataSource'] = path\n",
    "        self['stopWordSource'] = \"../data/english\"\n",
    "        self['numClasses'] = 1 \n",
    "        self['train_size'] = 0.8  # 训练集所占的比例\n",
    "        self.threshold = 0.5 \n",
    "        \n",
    "        ## 保存模型参数\n",
    "        self['checkpoint_dir'] = \"../model/DPCNN/imdb/checkpoint\"\n",
    "        self['summary_dir'] = \"../model/DPCNN/imdb/summary\"\n",
    "        self['max_to_keep'] = 5 "
   ]
  },
  {
   "cell_type": "markdown",
   "metadata": {},
   "source": [
    "# 2. 定义模型类和训练类"
   ]
  },
  {
   "cell_type": "markdown",
   "metadata": {},
   "source": [
    "## 2.1 定义模型类"
   ]
  },
  {
   "cell_type": "code",
   "execution_count": 5,
   "metadata": {},
   "outputs": [],
   "source": [
    "class DPCNN(BaseModel):\n",
    "    def __init__(self, config, wordEmbedding):\n",
    "        super().__init__(config)\n",
    "        self.wordEmbedding = wordEmbedding\n",
    "        self.initializer = tf.contrib.layers.xavier_initializer()\n",
    "        self.build_model()\n",
    "        self.init_saver()\n",
    "        \n",
    "    def build_model(self):\n",
    "        # 输入层\n",
    "        self.inputX= tf.placeholder(tf.int32, [None, self.config['sequenceLength']], name=\"inputX\")\n",
    "        self.inputY = tf.placeholder(tf.float32, [None], name=\"inputY\")\n",
    "        self.dropout_keep_prob = tf.placeholder(tf.float32, name=\"dropout_keep_prob\")\n",
    "        self.is_training = tf.placeholder(tf.bool, name=\"is_training\")\n",
    "        \n",
    "        \n",
    "        # 初始化参数\n",
    "        self.init_weights()\n",
    "        \n",
    "        # embedding层\n",
    "        self.embeded_words = tf.nn.embedding_lookup(self.embeddings, self.inputX, name=\"look_up\")\n",
    "        ## 扩展通道维度，符合conv的输入要求，形状[batch, seq, embedding, 1]\n",
    "        self.embeded_words = tf.expand_dims(self.embeded_words, axis=-1)\n",
    "        ## 区域embedding，相当于n-gram，形状[batch, seq-3+1, 1, 250]\n",
    "        region_embedding = tf.nn.conv2d(self.embeded_words, self.region_w, strides=[1,1,1,1],\n",
    "                                       padding=\"VALID\")\n",
    "        region_activation = tf.nn.relu(region_embedding, name=\"region_relu\")  # 激活\n",
    "        \n",
    "        # 连续两层conv，使用深度网络提取特征\n",
    "        ## 第一层，输出形状[batch, seq-3+1, 1, 250]\n",
    "        conv3 = self.conv3(0, region_activation)\n",
    "        conv3 = tf.layers.batch_normalization(conv3, training=self.is_training)\n",
    "        pre_activation = tf.nn.relu(conv3, name=\"pre_activation\")\n",
    "        ## 第二层，输出形状[batch, seq-3+1, 1, 250]\n",
    "        conv3 = self.conv3(1, pre_activation)\n",
    "        conv3 = tf.layers.batch_normalization(conv3, training=self.is_training)\n",
    "        ## 使用残差连接，将第二层的输出结果和区域embedding结果相加\n",
    "        ## 输出为[batch, seq-3+1, 1, 250]\n",
    "        conv3 = conv3 + region_embedding\n",
    "        \n",
    "        # 池化层和卷积层\n",
    "        ## 一直到seq_len维度的大小变为1，否则一直运算\n",
    "        k = 1 \n",
    "        while conv3.get_shape().as_list()[1] >= 2:\n",
    "            conv3, k = self._block(conv3, k)\n",
    "        # 形状 [batch, 250]\n",
    "        conv3 = tf.squeeze(conv3, [1, 2])\n",
    "        conv3 = tf.nn.dropout(conv3, self.dropout_keep_prob)\n",
    "        \n",
    "        with tf.name_scope(\"output\"):\n",
    "            self.logits = tf.matmul(conv3, self.w_projection) + self.b_projection\n",
    "            self.predictions = tf.nn.sigmoid(self.logits)\n",
    "            \n",
    "        # 计算损失\n",
    "        with tf.name_scope(\"loss\"):\n",
    "            losses = tf.nn.sigmoid_cross_entropy_with_logits(labels=tf.cast(tf.reshape(self.inputY, [-1, 1]), dtype=tf.float32), \n",
    "                                                             logits=self.logits)\n",
    "            self.loss = tf.reduce_mean(losses)\n",
    "            ## 计算l2正则化损失\n",
    "            if self.config['l2RegLambda'] > 0: \n",
    "                l2_loss = tf.add_n([tf.nn.l2_loss(cand_var) \n",
    "                                    for cand_var in tf.trainable_variables() \n",
    "                                    if \"bias\" not in cand_var.name and \"Embedding\" not in cand_var.name])\n",
    "                self.loss += self.config['l2RegLambda'] * l2_loss\n",
    "                \n",
    "        update_ops = tf.get_collection(tf.GraphKeys.UPDATE_OPS)\n",
    "        with tf.control_dependencies(update_ops):\n",
    "            learning_rate = tf.train.exponential_decay(self.config['learningRate'], self.global_step_tensor,\n",
    "                                                      self.config['decay_steps'],\n",
    "                                                      self.config['decay_rate'],\n",
    "                                                      staircase=True)\n",
    "            ## 使用梯度削减防止出现梯度爆炸\n",
    "            optimizer = tf.train.AdamOptimizer(learning_rate)\n",
    "            \n",
    "            grads_and_vars = optimizer.compute_gradients(self.loss)\n",
    "            for idx, (grad, var) in enumerate(grads_and_vars):\n",
    "                if grad is not None:\n",
    "                    grads_and_vars[idx] = (tf.clip_by_norm(grad, self.config['grad_clip']), var)\n",
    "            self.train_op = optimizer.apply_gradients(grads_and_vars, global_step=self.global_step_tensor)\n",
    "            \n",
    "        \n",
    "    def init_weights(self):\n",
    "        with tf.name_scope(\"weights\"):\n",
    "            self.embeddings = tf.Variable(tf.cast(self.wordEmbedding, dtype=tf.float32, name=\"word2vec\"),\n",
    "                                         name=\"wordEmbedding\", trainable=False)\n",
    "            \n",
    "            ## 区域embedding层的参数\n",
    "            ## 也就是卷积核的参数，filter形状对应的位置是 [filter_height, filter_width, in_channels, out_channels]\n",
    "            self.region_w = tf.get_variable(\"W_region\", [self.config['kernelSize'], self.config['embeddingSize'], \n",
    "                                                         1, self.config['num_filters']],\n",
    "                                           initializer=self.initializer, dtype=tf.float32)\n",
    "            self.w_projection = tf.get_variable(\"W_projection\", [self.config['num_filters'], self.config['numClasses']],\n",
    "                                               initializer=self.initializer, dtype=tf.float32)\n",
    "            self.b_projection = tf.Variable(tf.constant(0.0, shape=[self.config['numClasses']]), \n",
    "                                            dtype=tf.float32, name=\"b_projection\")\n",
    "            \n",
    "    \n",
    "    # 定义之后的卷积层\n",
    "    def conv3(self, k, input_):\n",
    "        conv3_w = tf.get_variable(f\"W_conv{k}\", \n",
    "                                 [self.config['kernelSize'], 1, self.config['num_filters'], self.config['num_filters']],\n",
    "                                 initializer=self.initializer, dtype=tf.float32)\n",
    "        conv = tf.nn.conv2d(input_, conv3_w, strides=[1,1,1,1], padding=\"SAME\")\n",
    "        return conv\n",
    "    \n",
    "    # 表示池化之后的结果\n",
    "    def _block(self, x, k):\n",
    "        # 这里进行padding，参数paddings的大小表示x的维度\n",
    "        ## 元素表示该维度左右各padding多少个0\n",
    "        ## 下面表示对第0,2,3维不使用padding，对第1维的下侧使用1次padding\n",
    "        x = tf.pad(x, paddings=[[0, 0], [0, 1], [0, 0], [0, 0]])\n",
    "        \n",
    "        # 最大池化，kernel的维度和输入对应，这里表示在height维度每3个取最大值，step=2\n",
    "        px = tf.nn.max_pool(x, [1, 3, 1, 1], strides=[1, 2, 1, 1], padding=\"VALID\")\n",
    "        \n",
    "        ## 紧接着两个卷积层\n",
    "        ### 第一层\n",
    "        k += 1 \n",
    "        x = tf.nn.relu(px)\n",
    "        x = self.conv3(k, x)\n",
    "        x = tf.layers.batch_normalization(x, training=self.is_training)\n",
    "        \n",
    "        ### 第二层\n",
    "        k += 1 \n",
    "        x = tf.nn.relu(x)\n",
    "        x = self.conv3(k, x)\n",
    "        x = tf.layers.batch_normalization(x, training=self.is_training)\n",
    "        ### 残差连接\n",
    "        x = x + px\n",
    "        return x, k\n",
    "    \n",
    "    def init_saver(self):\n",
    "        self.saver = tf.train.Saver(max_to_keep=self.config['max_to_keep'])"
   ]
  },
  {
   "cell_type": "markdown",
   "metadata": {},
   "source": [
    "## 2.2 定义训练类"
   ]
  },
  {
   "cell_type": "code",
   "execution_count": 6,
   "metadata": {},
   "outputs": [],
   "source": [
    "class Trainer(BaseTrain):\n",
    "    def __init__(self, sess, model, data, config, logger):\n",
    "        super().__init__(sess, model, data, config, logger)\n",
    "        self.train = data[0]\n",
    "        self.eval = data[1]\n",
    "        \n",
    "    def train_epoch(self):\n",
    "        num_iter_per_epoch = self.train.length // self.config[\"batch_size\"]\n",
    "        for _ in tqdm(range(num_iter_per_epoch)):\n",
    "            ## 获取训练结果\n",
    "            loss, metrics, step = self.train_step()\n",
    "            train_acc = metrics[\"accuracy\"]\n",
    "            train_f_score = metrics['f_score']\n",
    "            \n",
    "            ## 将训练过程的损失写入\n",
    "            summaries_dict = {\"loss\": loss, \n",
    "                             \"acc\": np.array(train_acc),\n",
    "                             \"f_score\": np.array(train_f_score)}\n",
    "            self.logger.summarize(step, summarizer=\"train\", scope=\"train_summary\",\n",
    "                                 summaries_dict=summaries_dict)\n",
    "            if step % self.config['evaluateEvery'] == 0: \n",
    "                print(\"Train —— Step: {} | Loss: {} | Acc: {} | F1_Score: {}\".format(\n",
    "                    step, loss, train_acc, train_f_score))\n",
    "                ## 对测试集进行评估\n",
    "                eval_losses = []\n",
    "                eval_pred = []\n",
    "                eval_true = []\n",
    "                for batchEval in self.eval.iter_all(self.config['batch_size']):\n",
    "                    loss, predictions = self.eval_step(batchEval[0], batchEval[1])\n",
    "                    eval_losses.append(loss)\n",
    "                    eval_pred.extend(predictions)\n",
    "                    eval_true.extend(batchEval[-1])\n",
    "                getMetric = Metric(np.array(eval_pred), np.array(eval_true),\n",
    "                                  self.config)\n",
    "                metrics = getMetric.get_metrics()\n",
    "                eval_prec = np.round(metrics['precision'], 5)\n",
    "                eval_recall = np.round(metrics['recall'], 5)\n",
    "                loss_mean = np.round(np.mean(eval_losses), 5)\n",
    "                \n",
    "                print(\"Evaluation —— Loss: {} | Precision: {} | Recall: {}\".format(\n",
    "                    loss_mean, eval_prec, eval_recall))\n",
    "                summaries_dict = {\"loss\": np.array(loss_mean),\n",
    "                                 \"precision\": np.array(eval_prec), \n",
    "                                 \"recall\": np.array(eval_recall)}\n",
    "                self.logger.summarize(step, summarizer=\"test\", scope=\"test_summary\",\n",
    "                                     summaries_dict=summaries_dict)\n",
    "            \n",
    "            if step % self.config['checkpointEvery'] == 0: \n",
    "                self.model.save(self.sess)\n",
    "            \n",
    "        \n",
    "    def train_step(self):\n",
    "        batch_x, batch_y = next(self.train.next_batch(self.config[\"batch_size\"]))\n",
    "        feed_dict = {self.model.inputX: batch_x,\n",
    "                    self.model.inputY: batch_y,\n",
    "                    self.model.dropout_keep_prob: self.config['dropoutProb'],\n",
    "                    self.model.is_training: True}\n",
    "        _, loss, predictions, step = self.sess.run([self.model.train_op, \n",
    "                                                   self.model.loss,\n",
    "                                                   self.model.predictions,\n",
    "                                                   self.model.global_step_tensor],\n",
    "                                                  feed_dict=feed_dict)\n",
    "        getMetric = Metric(predictions, batch_y, self.config)\n",
    "        metrics = getMetric.get_metrics()\n",
    "        return loss, metrics, step\n",
    "    \n",
    "    def eval_step(self, batch_x, batch_y):\n",
    "        feed_dict = {self.model.inputX: batch_x,\n",
    "                    self.model.inputY: batch_y,\n",
    "                    self.model.dropout_keep_prob: 1.0,\n",
    "                    self.model.is_training: False}\n",
    "        loss, predictions = self.sess.run([self.model.loss, self.model.predictions],\n",
    "                                         feed_dict=feed_dict)\n",
    "        return loss, predictions"
   ]
  },
  {
   "cell_type": "markdown",
   "metadata": {},
   "source": [
    "# 3. 使用数据进行训练"
   ]
  },
  {
   "cell_type": "markdown",
   "metadata": {},
   "source": [
    "## 3.1 使用IMDB数据集"
   ]
  },
  {
   "cell_type": "code",
   "execution_count": 7,
   "metadata": {},
   "outputs": [],
   "source": [
    "def main():\n",
    "    path = \"../data/imdb/labeldTrain.csv\"\n",
    "    config = Config(path)\n",
    "    create_dirs([config[\"summary_dir\"], config['checkpoint_dir']])\n",
    "    data = Dataset(config)\n",
    "    \n",
    "    ## 生成训练集数据，第一个参数表示wordEmbedding文件所在的文件夹\n",
    "    data.dataGen(\"../data/imdb\", prefix=\"imdb\")\n",
    "    \n",
    "    train_X, train_y, eval_X, eval_y = data.trainReviews, data.trainLabels, data.evalReviews, data.evalLabels\n",
    "    wordEmbedding, labels = data.wordEmbedding, data.labelList\n",
    "    \n",
    "    train_data = DataGenerator(train_X, train_y)\n",
    "    eval_data = DataGenerator(eval_X, eval_y)\n",
    "    pack_data = [train_data, eval_data]\n",
    "    \n",
    "    tf.reset_default_graph()\n",
    "    ## 设置计算图的配置\n",
    "    session_conf = tf.ConfigProto(allow_soft_placement=True, log_device_placement=False)\n",
    "    session_conf.gpu_options.allow_growth = True\n",
    "    session_conf.gpu_options.per_process_gpu_memory_fraction = 0.9 \n",
    "    \n",
    "    sess = tf.Session(config = session_conf)\n",
    "    \n",
    "    ## 创建一个实例\n",
    "    model = DPCNN(config, wordEmbedding)\n",
    "    \n",
    "    logger = Logger(sess, config)\n",
    "    \n",
    "    trainer = Trainer(sess, model, pack_data, config, logger)\n",
    "    \n",
    "    trainer.train_all()"
   ]
  },
  {
   "cell_type": "code",
   "execution_count": 8,
   "metadata": {},
   "outputs": [
    {
     "name": "stdout",
     "output_type": "stream",
     "text": [
      "WARNING:tensorflow:From /home/chen/anaconda3/lib/python3.7/site-packages/tensorflow/python/framework/op_def_library.py:263: colocate_with (from tensorflow.python.framework.ops) is deprecated and will be removed in a future version.\n",
      "Instructions for updating:\n",
      "Colocations handled automatically by placer.\n",
      "\n",
      "WARNING: The TensorFlow contrib module will not be included in TensorFlow 2.0.\n",
      "For more information, please see:\n",
      "  * https://github.com/tensorflow/community/blob/master/rfcs/20180907-contrib-sunset.md\n",
      "  * https://github.com/tensorflow/addons\n",
      "If you depend on functionality not listed there, please file an issue.\n",
      "\n",
      "WARNING:tensorflow:From <ipython-input-5-ebdff4f14dfe>:32: batch_normalization (from tensorflow.python.layers.normalization) is deprecated and will be removed in a future version.\n",
      "Instructions for updating:\n",
      "Use keras.layers.batch_normalization instead.\n",
      "WARNING:tensorflow:From <ipython-input-5-ebdff4f14dfe>:48: calling dropout (from tensorflow.python.ops.nn_ops) with keep_prob is deprecated and will be removed in a future version.\n",
      "Instructions for updating:\n",
      "Please use `rate` instead of `keep_prob`. Rate should be set to `rate = 1 - keep_prob`.\n",
      "\n",
      "当前正处于第1次迭代\n"
     ]
    },
    {
     "data": {
      "application/vnd.jupyter.widget-view+json": {
       "model_id": "9730ad1eb1234b469d73bc899cdaf895",
       "version_major": 2,
       "version_minor": 0
      },
      "text/plain": [
       "HBox(children=(IntProgress(value=0, max=312), HTML(value='')))"
      ]
     },
     "metadata": {},
     "output_type": "display_data"
    },
    {
     "name": "stdout",
     "output_type": "stream",
     "text": [
      "Train —— Step: 100 | Loss: 0.8796542882919312 | Acc: 0.71429 | F1_Score: 0.72727\n",
      "Evaluation —— Loss: 1.6098599433898926 | Precision: 0.54303 | Recall: 0.99842\n",
      "Saving model...\n",
      "Model saved\n",
      "Train —— Step: 200 | Loss: 0.3381098210811615 | Acc: 0.87302 | F1_Score: 0.86207\n",
      "Evaluation —— Loss: 1.128600001335144 | Precision: 0.57256 | Recall: 0.99881\n",
      "Saving model...\n",
      "Model saved\n",
      "Train —— Step: 300 | Loss: 0.29366499185562134 | Acc: 0.84127 | F1_Score: 0.82143\n",
      "Evaluation —— Loss: 0.711870014667511 | Precision: 0.64238 | Recall: 0.99051\n",
      "Saving model...\n",
      "Model saved\n",
      "\n",
      "\n",
      "当前正处于第2次迭代\n"
     ]
    },
    {
     "data": {
      "application/vnd.jupyter.widget-view+json": {
       "model_id": "de459e8b008e403c8199afa889f4a7d4",
       "version_major": 2,
       "version_minor": 0
      },
      "text/plain": [
       "HBox(children=(IntProgress(value=0, max=312), HTML(value='')))"
      ]
     },
     "metadata": {},
     "output_type": "display_data"
    },
    {
     "name": "stdout",
     "output_type": "stream",
     "text": [
      "Train —— Step: 400 | Loss: 0.37266865372657776 | Acc: 0.88889 | F1_Score: 0.88889\n",
      "Evaluation —— Loss: 0.3429099917411804 | Precision: 0.80134 | Recall: 0.94462\n",
      "Saving model...\n",
      "Model saved\n",
      "Train —— Step: 500 | Loss: 0.2201843112707138 | Acc: 0.85714 | F1_Score: 0.85714\n",
      "Evaluation —— Loss: 1.3241499662399292 | Precision: 0.59971 | Recall: 0.99565\n",
      "Saving model...\n",
      "Model saved\n",
      "Train —— Step: 600 | Loss: 0.2051265835762024 | Acc: 0.95238 | F1_Score: 0.95082\n",
      "Evaluation —— Loss: 0.3986800014972687 | Precision: 0.81871 | Recall: 0.94146\n",
      "Saving model...\n",
      "WARNING:tensorflow:From /home/chen/anaconda3/lib/python3.7/site-packages/tensorflow/python/training/saver.py:966: remove_checkpoint (from tensorflow.python.training.checkpoint_management) is deprecated and will be removed in a future version.\n",
      "Instructions for updating:\n",
      "Use standard file APIs to delete files with this prefix.\n",
      "Model saved\n",
      "\n",
      "\n",
      "当前正处于第3次迭代\n"
     ]
    },
    {
     "data": {
      "application/vnd.jupyter.widget-view+json": {
       "model_id": "abae707ed4d74d8d8e6dcb3837fc2fec",
       "version_major": 2,
       "version_minor": 0
      },
      "text/plain": [
       "HBox(children=(IntProgress(value=0, max=312), HTML(value='')))"
      ]
     },
     "metadata": {},
     "output_type": "display_data"
    },
    {
     "name": "stdout",
     "output_type": "stream",
     "text": [
      "Train —— Step: 700 | Loss: 0.16066674888134003 | Acc: 0.95238 | F1_Score: 0.95082\n",
      "Evaluation —— Loss: 0.3450799882411957 | Precision: 0.91648 | Recall: 0.78995\n",
      "Saving model...\n",
      "Model saved\n",
      "Train —— Step: 800 | Loss: 0.4091871976852417 | Acc: 0.88889 | F1_Score: 0.88525\n",
      "Evaluation —— Loss: 0.36278998851776123 | Precision: 0.87406 | Recall: 0.87302\n",
      "Saving model...\n",
      "Model saved\n",
      "Train —— Step: 900 | Loss: 0.209562748670578 | Acc: 0.88889 | F1_Score: 0.89231\n",
      "Evaluation —— Loss: 0.48730000853538513 | Precision: 0.78408 | Recall: 0.95095\n",
      "Saving model...\n",
      "Model saved\n",
      "\n",
      "\n",
      "当前正处于第4次迭代\n"
     ]
    },
    {
     "data": {
      "application/vnd.jupyter.widget-view+json": {
       "model_id": "f9b1fc637fab4779a9bcec9e409f07be",
       "version_major": 2,
       "version_minor": 0
      },
      "text/plain": [
       "HBox(children=(IntProgress(value=0, max=312), HTML(value='')))"
      ]
     },
     "metadata": {},
     "output_type": "display_data"
    },
    {
     "name": "stdout",
     "output_type": "stream",
     "text": [
      "Train —— Step: 1000 | Loss: 0.07596436142921448 | Acc: 0.98413 | F1_Score: 0.98361\n",
      "Evaluation —— Loss: 0.35756999254226685 | Precision: 0.86394 | Recall: 0.87658\n",
      "Saving model...\n",
      "Model saved\n",
      "Train —— Step: 1100 | Loss: 0.0929764062166214 | Acc: 0.98413 | F1_Score: 0.98361\n",
      "Evaluation —— Loss: 0.3626900017261505 | Precision: 0.8766 | Recall: 0.86828\n",
      "Saving model...\n",
      "Model saved\n",
      "Train —— Step: 1200 | Loss: 0.09591948986053467 | Acc: 0.98413 | F1_Score: 0.98361\n",
      "Evaluation —— Loss: 0.45041000843048096 | Precision: 0.90166 | Recall: 0.83782\n",
      "Saving model...\n",
      "Model saved\n",
      "\n",
      "\n",
      "当前正处于第5次迭代\n"
     ]
    },
    {
     "data": {
      "application/vnd.jupyter.widget-view+json": {
       "model_id": "39c1580b7bb44196b888b7b26b53d399",
       "version_major": 2,
       "version_minor": 0
      },
      "text/plain": [
       "HBox(children=(IntProgress(value=0, max=312), HTML(value='')))"
      ]
     },
     "metadata": {},
     "output_type": "display_data"
    },
    {
     "name": "stdout",
     "output_type": "stream",
     "text": [
      "Train —— Step: 1300 | Loss: 0.09038379788398743 | Acc: 0.96825 | F1_Score: 0.96774\n",
      "Evaluation —— Loss: 0.3905400037765503 | Precision: 0.8663 | Recall: 0.87658\n",
      "Saving model...\n",
      "Model saved\n",
      "Train —— Step: 1400 | Loss: 0.11743038892745972 | Acc: 0.96825 | F1_Score: 0.96875\n",
      "Evaluation —— Loss: 0.6920199990272522 | Precision: 0.74977 | Recall: 0.96242\n",
      "Saving model...\n",
      "Model saved\n",
      "Train —— Step: 1500 | Loss: 0.11857536435127258 | Acc: 0.98413 | F1_Score: 0.98413\n",
      "Evaluation —— Loss: 0.4328399896621704 | Precision: 0.85862 | Recall: 0.88884\n",
      "Saving model...\n",
      "Model saved\n",
      "\n",
      "CPU times: user 1min 20s, sys: 18.1 s, total: 1min 38s\n",
      "Wall time: 1min 51s\n"
     ]
    }
   ],
   "source": [
    "%%time\n",
    "main()"
   ]
  },
  {
   "cell_type": "markdown",
   "metadata": {},
   "source": [
    "## 3.2 使用Yelps数据集"
   ]
  },
  {
   "cell_type": "code",
   "execution_count": 9,
   "metadata": {},
   "outputs": [],
   "source": [
    "def main():\n",
    "    path = \"../data/yelps/yelps.csv\"\n",
    "    config = Config(path)\n",
    "    config['summary_dir'] = \"../model/DPCNN/yelps/summary\"\n",
    "    config['checkpoint_dir'] = \"../model/DPCNN/yelps/checkpoint\"\n",
    "    config['evaluateEvery'] = 400\n",
    "    config['checkpointEvery'] = 400\n",
    "    create_dirs([config[\"summary_dir\"], config['checkpoint_dir']])\n",
    "    \n",
    "    data = Dataset(config)\n",
    "    \n",
    "    ## 生成训练集数据，第一个参数表示wordEmbedding文件所在的文件夹\n",
    "    data.dataGen(\"../data/yelps/\", prefix=\"yelps\")\n",
    "    \n",
    "    train_X, train_y, eval_X, eval_y = data.trainReviews, data.trainLabels, data.evalReviews, data.evalLabels\n",
    "    wordEmbedding, labels = data.wordEmbedding, data.labelList\n",
    "    \n",
    "    train_data = DataGenerator(train_X, train_y)\n",
    "    eval_data = DataGenerator(eval_X, eval_y)\n",
    "    pack_data = [train_data, eval_data]\n",
    "    \n",
    "    tf.reset_default_graph()\n",
    "    ## 设置计算图的配置\n",
    "    session_conf = tf.ConfigProto(allow_soft_placement=True, log_device_placement=False)\n",
    "    session_conf.gpu_options.allow_growth = True\n",
    "    session_conf.gpu_options.per_process_gpu_memory_fraction = 0.9 \n",
    "    \n",
    "    sess = tf.Session(config = session_conf)\n",
    "    \n",
    "    ## 创建一个实例\n",
    "    model = DPCNN(config, wordEmbedding)\n",
    "    \n",
    "    logger = Logger(sess, config)\n",
    "    \n",
    "    trainer = Trainer(sess, model, pack_data, config, logger)\n",
    "    \n",
    "    trainer.train_all()"
   ]
  },
  {
   "cell_type": "code",
   "execution_count": 10,
   "metadata": {},
   "outputs": [
    {
     "name": "stdout",
     "output_type": "stream",
     "text": [
      "\n",
      "当前正处于第1次迭代\n"
     ]
    },
    {
     "data": {
      "application/vnd.jupyter.widget-view+json": {
       "model_id": "98dea7b4351e45b58b3c4ecdff7f1cbe",
       "version_major": 2,
       "version_minor": 0
      },
      "text/plain": [
       "HBox(children=(IntProgress(value=0, max=1250), HTML(value='')))"
      ]
     },
     "metadata": {},
     "output_type": "display_data"
    },
    {
     "name": "stdout",
     "output_type": "stream",
     "text": [
      "Train —— Step: 400 | Loss: 0.33918890357017517 | Acc: 0.87302 | F1_Score: 0.90909\n",
      "Evaluation —— Loss: 0.27199000120162964 | Precision: 0.89403 | Recall: 0.94893\n",
      "Saving model...\n",
      "Model saved\n",
      "Train —— Step: 800 | Loss: 0.12130420655012131 | Acc: 0.95238 | F1_Score: 0.96386\n",
      "Evaluation —— Loss: 0.2712399959564209 | Precision: 0.93009 | Recall: 0.8984\n",
      "Saving model...\n",
      "Model saved\n",
      "Train —— Step: 1200 | Loss: 0.19015341997146606 | Acc: 0.92063 | F1_Score: 0.94118\n",
      "Evaluation —— Loss: 0.2515299916267395 | Precision: 0.92287 | Recall: 0.91917\n",
      "Saving model...\n",
      "Model saved\n",
      "\n",
      "\n",
      "当前正处于第2次迭代\n"
     ]
    },
    {
     "data": {
      "application/vnd.jupyter.widget-view+json": {
       "model_id": "8e358beddc2645478ffcfe08306c136c",
       "version_major": 2,
       "version_minor": 0
      },
      "text/plain": [
       "HBox(children=(IntProgress(value=0, max=1250), HTML(value='')))"
      ]
     },
     "metadata": {},
     "output_type": "display_data"
    },
    {
     "name": "stdout",
     "output_type": "stream",
     "text": [
      "Train —— Step: 1600 | Loss: 0.40384572744369507 | Acc: 0.96825 | F1_Score: 0.97674\n",
      "Evaluation —— Loss: 0.2439900040626526 | Precision: 0.92951 | Recall: 0.91842\n",
      "Saving model...\n",
      "Model saved\n",
      "Train —— Step: 2000 | Loss: 0.13859966397285461 | Acc: 0.90476 | F1_Score: 0.92857\n",
      "Evaluation —— Loss: 0.2459000051021576 | Precision: 0.89305 | Recall: 0.96261\n",
      "Saving model...\n",
      "Model saved\n",
      "Train —— Step: 2400 | Loss: 0.11533189564943314 | Acc: 0.95238 | F1_Score: 0.96386\n",
      "Evaluation —— Loss: 0.25227001309394836 | Precision: 0.93108 | Recall: 0.91026\n",
      "Saving model...\n",
      "Model saved\n",
      "\n",
      "\n",
      "当前正处于第3次迭代\n"
     ]
    },
    {
     "data": {
      "application/vnd.jupyter.widget-view+json": {
       "model_id": "a3772294338e4a2e91f0b44f2ceeab89",
       "version_major": 2,
       "version_minor": 0
      },
      "text/plain": [
       "HBox(children=(IntProgress(value=0, max=1250), HTML(value='')))"
      ]
     },
     "metadata": {},
     "output_type": "display_data"
    },
    {
     "name": "stdout",
     "output_type": "stream",
     "text": [
      "Train —— Step: 2800 | Loss: 0.2902209758758545 | Acc: 0.90476 | F1_Score: 0.93023\n",
      "Evaluation —— Loss: 0.24240000545978546 | Precision: 0.92781 | Recall: 0.92136\n",
      "Saving model...\n",
      "Model saved\n",
      "Train —— Step: 3200 | Loss: 0.11075884103775024 | Acc: 0.96825 | F1_Score: 0.97619\n",
      "Evaluation —— Loss: 0.25328999757766724 | Precision: 0.91905 | Recall: 0.93564\n",
      "Saving model...\n",
      "Model saved\n",
      "Train —— Step: 3600 | Loss: 0.13583506643772125 | Acc: 0.93651 | F1_Score: 0.95238\n",
      "Evaluation —— Loss: 0.25349000096321106 | Precision: 0.92595 | Recall: 0.92756\n",
      "Saving model...\n",
      "Model saved\n",
      "\n",
      "\n",
      "当前正处于第4次迭代\n"
     ]
    },
    {
     "data": {
      "application/vnd.jupyter.widget-view+json": {
       "model_id": "8789faf40845424d8c189177306c9879",
       "version_major": 2,
       "version_minor": 0
      },
      "text/plain": [
       "HBox(children=(IntProgress(value=0, max=1250), HTML(value='')))"
      ]
     },
     "metadata": {},
     "output_type": "display_data"
    },
    {
     "name": "stdout",
     "output_type": "stream",
     "text": [
      "Train —— Step: 4000 | Loss: 0.17429818212985992 | Acc: 0.95238 | F1_Score: 0.96552\n",
      "Evaluation —— Loss: 0.2647300064563751 | Precision: 0.9153 | Recall: 0.9404\n",
      "Saving model...\n",
      "Model saved\n",
      "Train —— Step: 4400 | Loss: 0.05103440582752228 | Acc: 0.98413 | F1_Score: 0.98795\n",
      "Evaluation —— Loss: 0.2655700147151947 | Precision: 0.91883 | Recall: 0.93458\n",
      "Saving model...\n",
      "Model saved\n",
      "Train —— Step: 4800 | Loss: 0.10332784056663513 | Acc: 0.95238 | F1_Score: 0.96552\n",
      "Evaluation —— Loss: 0.2702000141143799 | Precision: 0.91969 | Recall: 0.92997\n",
      "Saving model...\n",
      "Model saved\n",
      "\n",
      "\n",
      "当前正处于第5次迭代\n"
     ]
    },
    {
     "data": {
      "application/vnd.jupyter.widget-view+json": {
       "model_id": "ba273bcfd376436cb5762aac49118918",
       "version_major": 2,
       "version_minor": 0
      },
      "text/plain": [
       "HBox(children=(IntProgress(value=0, max=1250), HTML(value='')))"
      ]
     },
     "metadata": {},
     "output_type": "display_data"
    },
    {
     "name": "stdout",
     "output_type": "stream",
     "text": [
      "Train —— Step: 5200 | Loss: 0.10885898768901825 | Acc: 0.96825 | F1_Score: 0.97619\n",
      "Evaluation —— Loss: 0.2759700119495392 | Precision: 0.91292 | Recall: 0.94161\n",
      "Saving model...\n",
      "Model saved\n",
      "Train —— Step: 5600 | Loss: 0.03490706905722618 | Acc: 1.0 | F1_Score: 1.0\n",
      "Evaluation —— Loss: 0.2803899943828583 | Precision: 0.91811 | Recall: 0.93247\n",
      "Saving model...\n",
      "Model saved\n",
      "Train —— Step: 6000 | Loss: 0.11550605297088623 | Acc: 0.93651 | F1_Score: 0.95349\n",
      "Evaluation —— Loss: 0.2799200117588043 | Precision: 0.9161 | Recall: 0.93534\n",
      "Saving model...\n",
      "Model saved\n",
      "\n",
      "CPU times: user 7min 50s, sys: 1min 55s, total: 9min 45s\n",
      "Wall time: 11min 36s\n"
     ]
    }
   ],
   "source": [
    "%%time\n",
    "main()"
   ]
  },
  {
   "cell_type": "code",
   "execution_count": null,
   "metadata": {},
   "outputs": [],
   "source": []
  }
 ],
 "metadata": {
  "kernelspec": {
   "display_name": "Python 3",
   "language": "python",
   "name": "python3"
  },
  "language_info": {
   "codemirror_mode": {
    "name": "ipython",
    "version": 3
   },
   "file_extension": ".py",
   "mimetype": "text/x-python",
   "name": "python",
   "nbconvert_exporter": "python",
   "pygments_lexer": "ipython3",
   "version": "3.7.4"
  },
  "widgets": {
   "application/vnd.jupyter.widget-state+json": {
    "state": {
     "00c1c274785b44b3b3ae19c88e60c54d": {
      "model_module": "@jupyter-widgets/controls",
      "model_module_version": "1.5.0",
      "model_name": "IntProgressModel",
      "state": {
       "bar_style": "success",
       "layout": "IPY_MODEL_60104174fbc641348848d5ecd1a723fc",
       "max": 1250,
       "style": "IPY_MODEL_d7ec60b10c4244d1bb02c9858477e05f",
       "value": 1250
      }
     },
     "00fd2f77530b4d3298b4722540566186": {
      "model_module": "@jupyter-widgets/controls",
      "model_module_version": "1.5.0",
      "model_name": "IntProgressModel",
      "state": {
       "bar_style": "success",
       "layout": "IPY_MODEL_d98f4b1968124b8ab24ca84241c2c7b8",
       "max": 312,
       "style": "IPY_MODEL_1dc02823633546c887bb013021b86edc",
       "value": 312
      }
     },
     "01a0cf1f749542ebbe5497bde588c532": {
      "model_module": "@jupyter-widgets/base",
      "model_module_version": "1.2.0",
      "model_name": "LayoutModel",
      "state": {}
     },
     "0d89059540ac4cdc9db1fe9b2c2dedd7": {
      "model_module": "@jupyter-widgets/base",
      "model_module_version": "1.2.0",
      "model_name": "LayoutModel",
      "state": {}
     },
     "0f9b1d12fb0e4c5ea32df2c7f129bb52": {
      "model_module": "@jupyter-widgets/base",
      "model_module_version": "1.2.0",
      "model_name": "LayoutModel",
      "state": {}
     },
     "0fa654c7ec7f4a6896b6288e0d7817f8": {
      "model_module": "@jupyter-widgets/controls",
      "model_module_version": "1.5.0",
      "model_name": "ProgressStyleModel",
      "state": {
       "description_width": ""
      }
     },
     "1642730ada3c4a2fb7cbe7d98a41c757": {
      "model_module": "@jupyter-widgets/base",
      "model_module_version": "1.2.0",
      "model_name": "LayoutModel",
      "state": {}
     },
     "1d795668c2544a2eb4f5fb8de85355b2": {
      "model_module": "@jupyter-widgets/base",
      "model_module_version": "1.2.0",
      "model_name": "LayoutModel",
      "state": {}
     },
     "1dc02823633546c887bb013021b86edc": {
      "model_module": "@jupyter-widgets/controls",
      "model_module_version": "1.5.0",
      "model_name": "ProgressStyleModel",
      "state": {
       "description_width": ""
      }
     },
     "1ddb538938b141eeb46b96c74a55c1ab": {
      "model_module": "@jupyter-widgets/controls",
      "model_module_version": "1.5.0",
      "model_name": "DescriptionStyleModel",
      "state": {
       "description_width": ""
      }
     },
     "20afef78b0f548d9abc7a1230e8f5abb": {
      "model_module": "@jupyter-widgets/controls",
      "model_module_version": "1.5.0",
      "model_name": "DescriptionStyleModel",
      "state": {
       "description_width": ""
      }
     },
     "22614925efae4253b56f89316492ca76": {
      "model_module": "@jupyter-widgets/controls",
      "model_module_version": "1.5.0",
      "model_name": "DescriptionStyleModel",
      "state": {
       "description_width": ""
      }
     },
     "26deeda0b52c4d10a0c23a34a9c42cbf": {
      "model_module": "@jupyter-widgets/base",
      "model_module_version": "1.2.0",
      "model_name": "LayoutModel",
      "state": {}
     },
     "2d412d7b7f7b4a00bd94d1dcf1933668": {
      "model_module": "@jupyter-widgets/controls",
      "model_module_version": "1.5.0",
      "model_name": "HTMLModel",
      "state": {
       "layout": "IPY_MODEL_b0a1891311de41079d45a194ec26c297",
       "style": "IPY_MODEL_20afef78b0f548d9abc7a1230e8f5abb",
       "value": "100% 1250/1250 [02:23&lt;00:00,  9.42it/s]"
      }
     },
     "2da67aa9d663445ab70e944ae98bed6b": {
      "model_module": "@jupyter-widgets/controls",
      "model_module_version": "1.5.0",
      "model_name": "DescriptionStyleModel",
      "state": {
       "description_width": ""
      }
     },
     "2f3184e74fea471c835f01ad64db61be": {
      "model_module": "@jupyter-widgets/controls",
      "model_module_version": "1.5.0",
      "model_name": "IntProgressModel",
      "state": {
       "bar_style": "success",
       "layout": "IPY_MODEL_26deeda0b52c4d10a0c23a34a9c42cbf",
       "max": 1250,
       "style": "IPY_MODEL_fc9f1fb107f945168a8c0db5f791908a",
       "value": 1250
      }
     },
     "364fca4473fa4f228e8f7c0b0af7ebe6": {
      "model_module": "@jupyter-widgets/controls",
      "model_module_version": "1.5.0",
      "model_name": "HTMLModel",
      "state": {
       "layout": "IPY_MODEL_8acc3689496d4d19af796d0a39933b57",
       "style": "IPY_MODEL_823fc40659894a7b9c04d11161ba459d",
       "value": "100% 312/312 [00:21&lt;00:00, 19.21it/s]"
      }
     },
     "39c1580b7bb44196b888b7b26b53d399": {
      "model_module": "@jupyter-widgets/controls",
      "model_module_version": "1.5.0",
      "model_name": "HBoxModel",
      "state": {
       "children": [
        "IPY_MODEL_4e303567736044f58c415f9b099e7f68",
        "IPY_MODEL_364fca4473fa4f228e8f7c0b0af7ebe6"
       ],
       "layout": "IPY_MODEL_b3d7ef5a6b6149a7b33ae094d6ac5c44"
      }
     },
     "445ef5d7a483413a847e1d0d258d2645": {
      "model_module": "@jupyter-widgets/controls",
      "model_module_version": "1.5.0",
      "model_name": "ProgressStyleModel",
      "state": {
       "description_width": ""
      }
     },
     "4863b44c257e41db86f4aa65cf15cef5": {
      "model_module": "@jupyter-widgets/base",
      "model_module_version": "1.2.0",
      "model_name": "LayoutModel",
      "state": {}
     },
     "4ae05d35810e42d19166aca7393e4d53": {
      "model_module": "@jupyter-widgets/base",
      "model_module_version": "1.2.0",
      "model_name": "LayoutModel",
      "state": {}
     },
     "4e303567736044f58c415f9b099e7f68": {
      "model_module": "@jupyter-widgets/controls",
      "model_module_version": "1.5.0",
      "model_name": "IntProgressModel",
      "state": {
       "bar_style": "success",
       "layout": "IPY_MODEL_60b48aff70b04be4ac7a24c0f756c790",
       "max": 312,
       "style": "IPY_MODEL_552f9242ac5e4fc8bc804e4d3776b19b",
       "value": 312
      }
     },
     "52f5a27798614991a0bdc9fc7cfa8169": {
      "model_module": "@jupyter-widgets/controls",
      "model_module_version": "1.5.0",
      "model_name": "DescriptionStyleModel",
      "state": {
       "description_width": ""
      }
     },
     "552f9242ac5e4fc8bc804e4d3776b19b": {
      "model_module": "@jupyter-widgets/controls",
      "model_module_version": "1.5.0",
      "model_name": "ProgressStyleModel",
      "state": {
       "description_width": ""
      }
     },
     "5be8d1e6865942fcac216a2775a48b85": {
      "model_module": "@jupyter-widgets/controls",
      "model_module_version": "1.5.0",
      "model_name": "HTMLModel",
      "state": {
       "layout": "IPY_MODEL_bc017fb22b89423d92565e0d10fdf3f2",
       "style": "IPY_MODEL_22614925efae4253b56f89316492ca76",
       "value": "100% 312/312 [00:21&lt;00:00, 18.25it/s]"
      }
     },
     "5f46c429db6b4e029dd2c3cec9db1454": {
      "model_module": "@jupyter-widgets/base",
      "model_module_version": "1.2.0",
      "model_name": "LayoutModel",
      "state": {}
     },
     "60104174fbc641348848d5ecd1a723fc": {
      "model_module": "@jupyter-widgets/base",
      "model_module_version": "1.2.0",
      "model_name": "LayoutModel",
      "state": {}
     },
     "60b48aff70b04be4ac7a24c0f756c790": {
      "model_module": "@jupyter-widgets/base",
      "model_module_version": "1.2.0",
      "model_name": "LayoutModel",
      "state": {}
     },
     "6506939e83784b04a42fca3a55ec3cd6": {
      "model_module": "@jupyter-widgets/controls",
      "model_module_version": "1.5.0",
      "model_name": "IntProgressModel",
      "state": {
       "bar_style": "success",
       "layout": "IPY_MODEL_e77e53ec7f4a4383949c9bdc159ed092",
       "max": 1250,
       "style": "IPY_MODEL_ef88fe1b43aa464bb6d543bb546fcf8c",
       "value": 1250
      }
     },
     "6594130c04524625b0b9e9f54634e6b5": {
      "model_module": "@jupyter-widgets/base",
      "model_module_version": "1.2.0",
      "model_name": "LayoutModel",
      "state": {}
     },
     "68e043f7b0aa4ea186ebd5f60061f4f6": {
      "model_module": "@jupyter-widgets/controls",
      "model_module_version": "1.5.0",
      "model_name": "DescriptionStyleModel",
      "state": {
       "description_width": ""
      }
     },
     "75c06bfce30c4c4ca7fea63b9d29c5ae": {
      "model_module": "@jupyter-widgets/base",
      "model_module_version": "1.2.0",
      "model_name": "LayoutModel",
      "state": {}
     },
     "7763f2ae00b545e795681a2bfdbc1d54": {
      "model_module": "@jupyter-widgets/base",
      "model_module_version": "1.2.0",
      "model_name": "LayoutModel",
      "state": {}
     },
     "795180b7305b4a488197890cd373b7c8": {
      "model_module": "@jupyter-widgets/controls",
      "model_module_version": "1.5.0",
      "model_name": "IntProgressModel",
      "state": {
       "bar_style": "success",
       "layout": "IPY_MODEL_5f46c429db6b4e029dd2c3cec9db1454",
       "max": 1250,
       "style": "IPY_MODEL_a3ea532821514fa1a3d60d4ccf0b8931",
       "value": 1250
      }
     },
     "79b6f045f867461db632b3aadd4b13c5": {
      "model_module": "@jupyter-widgets/controls",
      "model_module_version": "1.5.0",
      "model_name": "HTMLModel",
      "state": {
       "layout": "IPY_MODEL_8489280371f6413cb981469ab9084a0a",
       "style": "IPY_MODEL_1ddb538938b141eeb46b96c74a55c1ab",
       "value": "100% 1250/1250 [02:30&lt;00:00,  8.31it/s]"
      }
     },
     "7a85c141648c424191004f35e43c1510": {
      "model_module": "@jupyter-widgets/controls",
      "model_module_version": "1.5.0",
      "model_name": "HTMLModel",
      "state": {
       "layout": "IPY_MODEL_4863b44c257e41db86f4aa65cf15cef5",
       "style": "IPY_MODEL_68e043f7b0aa4ea186ebd5f60061f4f6",
       "value": "100% 312/312 [00:22&lt;00:00, 13.88it/s]"
      }
     },
     "81bb2cf4e6b84ede88d12c912728ed69": {
      "model_module": "@jupyter-widgets/base",
      "model_module_version": "1.2.0",
      "model_name": "LayoutModel",
      "state": {}
     },
     "823fc40659894a7b9c04d11161ba459d": {
      "model_module": "@jupyter-widgets/controls",
      "model_module_version": "1.5.0",
      "model_name": "DescriptionStyleModel",
      "state": {
       "description_width": ""
      }
     },
     "8424e228a30941a9bece1f0787ed9d97": {
      "model_module": "@jupyter-widgets/controls",
      "model_module_version": "1.5.0",
      "model_name": "ProgressStyleModel",
      "state": {
       "description_width": ""
      }
     },
     "8489280371f6413cb981469ab9084a0a": {
      "model_module": "@jupyter-widgets/base",
      "model_module_version": "1.2.0",
      "model_name": "LayoutModel",
      "state": {}
     },
     "877e496c331748b7b5730681b22c592b": {
      "model_module": "@jupyter-widgets/base",
      "model_module_version": "1.2.0",
      "model_name": "LayoutModel",
      "state": {}
     },
     "8789faf40845424d8c189177306c9879": {
      "model_module": "@jupyter-widgets/controls",
      "model_module_version": "1.5.0",
      "model_name": "HBoxModel",
      "state": {
       "children": [
        "IPY_MODEL_2f3184e74fea471c835f01ad64db61be",
        "IPY_MODEL_ebf357893e9f4ac690f2eca8566435e6"
       ],
       "layout": "IPY_MODEL_0f9b1d12fb0e4c5ea32df2c7f129bb52"
      }
     },
     "8acc3689496d4d19af796d0a39933b57": {
      "model_module": "@jupyter-widgets/base",
      "model_module_version": "1.2.0",
      "model_name": "LayoutModel",
      "state": {}
     },
     "8e358beddc2645478ffcfe08306c136c": {
      "model_module": "@jupyter-widgets/controls",
      "model_module_version": "1.5.0",
      "model_name": "HBoxModel",
      "state": {
       "children": [
        "IPY_MODEL_e15d34051a24410c85552e6e18d90610",
        "IPY_MODEL_2d412d7b7f7b4a00bd94d1dcf1933668"
       ],
       "layout": "IPY_MODEL_dea2f932d7f849158e0cec72fdc228f4"
      }
     },
     "8fa306f6c04d4094969707681da78269": {
      "model_module": "@jupyter-widgets/controls",
      "model_module_version": "1.5.0",
      "model_name": "IntProgressModel",
      "state": {
       "bar_style": "success",
       "layout": "IPY_MODEL_cfa1db27979b484e9cc1561d69db43ba",
       "max": 312,
       "style": "IPY_MODEL_8424e228a30941a9bece1f0787ed9d97",
       "value": 312
      }
     },
     "9444c86b40424e5eb2960e3878d2caf9": {
      "model_module": "@jupyter-widgets/base",
      "model_module_version": "1.2.0",
      "model_name": "LayoutModel",
      "state": {}
     },
     "9730ad1eb1234b469d73bc899cdaf895": {
      "model_module": "@jupyter-widgets/controls",
      "model_module_version": "1.5.0",
      "model_name": "HBoxModel",
      "state": {
       "children": [
        "IPY_MODEL_a7a1d54f5a27433db9f6b7d82dc4ec15",
        "IPY_MODEL_7a85c141648c424191004f35e43c1510"
       ],
       "layout": "IPY_MODEL_75c06bfce30c4c4ca7fea63b9d29c5ae"
      }
     },
     "98dea7b4351e45b58b3c4ecdff7f1cbe": {
      "model_module": "@jupyter-widgets/controls",
      "model_module_version": "1.5.0",
      "model_name": "HBoxModel",
      "state": {
       "children": [
        "IPY_MODEL_795180b7305b4a488197890cd373b7c8",
        "IPY_MODEL_de7465b52758403199abb2efdbcd1a29"
       ],
       "layout": "IPY_MODEL_1d795668c2544a2eb4f5fb8de85355b2"
      }
     },
     "99908703514e4c0bbbd13c6ea0348e5a": {
      "model_module": "@jupyter-widgets/base",
      "model_module_version": "1.2.0",
      "model_name": "LayoutModel",
      "state": {}
     },
     "a3772294338e4a2e91f0b44f2ceeab89": {
      "model_module": "@jupyter-widgets/controls",
      "model_module_version": "1.5.0",
      "model_name": "HBoxModel",
      "state": {
       "children": [
        "IPY_MODEL_6506939e83784b04a42fca3a55ec3cd6",
        "IPY_MODEL_79b6f045f867461db632b3aadd4b13c5"
       ],
       "layout": "IPY_MODEL_4ae05d35810e42d19166aca7393e4d53"
      }
     },
     "a3ea532821514fa1a3d60d4ccf0b8931": {
      "model_module": "@jupyter-widgets/controls",
      "model_module_version": "1.5.0",
      "model_name": "ProgressStyleModel",
      "state": {
       "description_width": ""
      }
     },
     "a7a1d54f5a27433db9f6b7d82dc4ec15": {
      "model_module": "@jupyter-widgets/controls",
      "model_module_version": "1.5.0",
      "model_name": "IntProgressModel",
      "state": {
       "bar_style": "success",
       "layout": "IPY_MODEL_dd6b21988c604c0b8407751986777f3b",
       "max": 312,
       "style": "IPY_MODEL_0fa654c7ec7f4a6896b6288e0d7817f8",
       "value": 312
      }
     },
     "ab89a7054fe04b34b470a2e6a3722b31": {
      "model_module": "@jupyter-widgets/base",
      "model_module_version": "1.2.0",
      "model_name": "LayoutModel",
      "state": {}
     },
     "abae707ed4d74d8d8e6dcb3837fc2fec": {
      "model_module": "@jupyter-widgets/controls",
      "model_module_version": "1.5.0",
      "model_name": "HBoxModel",
      "state": {
       "children": [
        "IPY_MODEL_00fd2f77530b4d3298b4722540566186",
        "IPY_MODEL_be8978faea574c4dac63725aa83f2d8f"
       ],
       "layout": "IPY_MODEL_81bb2cf4e6b84ede88d12c912728ed69"
      }
     },
     "b0a1891311de41079d45a194ec26c297": {
      "model_module": "@jupyter-widgets/base",
      "model_module_version": "1.2.0",
      "model_name": "LayoutModel",
      "state": {}
     },
     "b3d7ef5a6b6149a7b33ae094d6ac5c44": {
      "model_module": "@jupyter-widgets/base",
      "model_module_version": "1.2.0",
      "model_name": "LayoutModel",
      "state": {}
     },
     "b3d8fa3729df4038a99c297681003518": {
      "model_module": "@jupyter-widgets/base",
      "model_module_version": "1.2.0",
      "model_name": "LayoutModel",
      "state": {}
     },
     "ba273bcfd376436cb5762aac49118918": {
      "model_module": "@jupyter-widgets/controls",
      "model_module_version": "1.5.0",
      "model_name": "HBoxModel",
      "state": {
       "children": [
        "IPY_MODEL_00c1c274785b44b3b3ae19c88e60c54d",
        "IPY_MODEL_cb0307329d874cb79a8b16b4e10a1ab5"
       ],
       "layout": "IPY_MODEL_7763f2ae00b545e795681a2bfdbc1d54"
      }
     },
     "bc017fb22b89423d92565e0d10fdf3f2": {
      "model_module": "@jupyter-widgets/base",
      "model_module_version": "1.2.0",
      "model_name": "LayoutModel",
      "state": {}
     },
     "be8978faea574c4dac63725aa83f2d8f": {
      "model_module": "@jupyter-widgets/controls",
      "model_module_version": "1.5.0",
      "model_name": "HTMLModel",
      "state": {
       "layout": "IPY_MODEL_1642730ada3c4a2fb7cbe7d98a41c757",
       "style": "IPY_MODEL_2da67aa9d663445ab70e944ae98bed6b",
       "value": "100% 312/312 [00:19&lt;00:00, 16.15it/s]"
      }
     },
     "bf2850afefdc4e00a52a54ed94d8210a": {
      "model_module": "@jupyter-widgets/controls",
      "model_module_version": "1.5.0",
      "model_name": "DescriptionStyleModel",
      "state": {
       "description_width": ""
      }
     },
     "cb0307329d874cb79a8b16b4e10a1ab5": {
      "model_module": "@jupyter-widgets/controls",
      "model_module_version": "1.5.0",
      "model_name": "HTMLModel",
      "state": {
       "layout": "IPY_MODEL_b3d8fa3729df4038a99c297681003518",
       "style": "IPY_MODEL_f82a0139a18b482ba8bfad94eca85d9e",
       "value": "100% 1250/1250 [02:41&lt;00:00,  9.55it/s]"
      }
     },
     "cfa1db27979b484e9cc1561d69db43ba": {
      "model_module": "@jupyter-widgets/base",
      "model_module_version": "1.2.0",
      "model_name": "LayoutModel",
      "state": {}
     },
     "d4ea3d43769d44a7a83dd5560b6b53d3": {
      "model_module": "@jupyter-widgets/controls",
      "model_module_version": "1.5.0",
      "model_name": "IntProgressModel",
      "state": {
       "bar_style": "success",
       "layout": "IPY_MODEL_99908703514e4c0bbbd13c6ea0348e5a",
       "max": 312,
       "style": "IPY_MODEL_445ef5d7a483413a847e1d0d258d2645",
       "value": 312
      }
     },
     "d7ccf093320f436e93b98128ef8e53c1": {
      "model_module": "@jupyter-widgets/controls",
      "model_module_version": "1.5.0",
      "model_name": "ProgressStyleModel",
      "state": {
       "description_width": ""
      }
     },
     "d7ec60b10c4244d1bb02c9858477e05f": {
      "model_module": "@jupyter-widgets/controls",
      "model_module_version": "1.5.0",
      "model_name": "ProgressStyleModel",
      "state": {
       "description_width": ""
      }
     },
     "d98f4b1968124b8ab24ca84241c2c7b8": {
      "model_module": "@jupyter-widgets/base",
      "model_module_version": "1.2.0",
      "model_name": "LayoutModel",
      "state": {}
     },
     "dd6b21988c604c0b8407751986777f3b": {
      "model_module": "@jupyter-widgets/base",
      "model_module_version": "1.2.0",
      "model_name": "LayoutModel",
      "state": {}
     },
     "de459e8b008e403c8199afa889f4a7d4": {
      "model_module": "@jupyter-widgets/controls",
      "model_module_version": "1.5.0",
      "model_name": "HBoxModel",
      "state": {
       "children": [
        "IPY_MODEL_d4ea3d43769d44a7a83dd5560b6b53d3",
        "IPY_MODEL_f543100e4e964d7c8df1501f276047a3"
       ],
       "layout": "IPY_MODEL_0d89059540ac4cdc9db1fe9b2c2dedd7"
      }
     },
     "de7465b52758403199abb2efdbcd1a29": {
      "model_module": "@jupyter-widgets/controls",
      "model_module_version": "1.5.0",
      "model_name": "HTMLModel",
      "state": {
       "layout": "IPY_MODEL_6594130c04524625b0b9e9f54634e6b5",
       "style": "IPY_MODEL_bf2850afefdc4e00a52a54ed94d8210a",
       "value": "100% 1250/1250 [01:24&lt;00:00, 18.41it/s]"
      }
     },
     "dea2f932d7f849158e0cec72fdc228f4": {
      "model_module": "@jupyter-widgets/base",
      "model_module_version": "1.2.0",
      "model_name": "LayoutModel",
      "state": {}
     },
     "e15d34051a24410c85552e6e18d90610": {
      "model_module": "@jupyter-widgets/controls",
      "model_module_version": "1.5.0",
      "model_name": "IntProgressModel",
      "state": {
       "bar_style": "success",
       "layout": "IPY_MODEL_877e496c331748b7b5730681b22c592b",
       "max": 1250,
       "style": "IPY_MODEL_d7ccf093320f436e93b98128ef8e53c1",
       "value": 1250
      }
     },
     "e1f1fdf90315442c8155e00d0fb0d72e": {
      "model_module": "@jupyter-widgets/controls",
      "model_module_version": "1.5.0",
      "model_name": "DescriptionStyleModel",
      "state": {
       "description_width": ""
      }
     },
     "e77e53ec7f4a4383949c9bdc159ed092": {
      "model_module": "@jupyter-widgets/base",
      "model_module_version": "1.2.0",
      "model_name": "LayoutModel",
      "state": {}
     },
     "ebf357893e9f4ac690f2eca8566435e6": {
      "model_module": "@jupyter-widgets/controls",
      "model_module_version": "1.5.0",
      "model_name": "HTMLModel",
      "state": {
       "layout": "IPY_MODEL_01a0cf1f749542ebbe5497bde588c532",
       "style": "IPY_MODEL_e1f1fdf90315442c8155e00d0fb0d72e",
       "value": "100% 1250/1250 [02:26&lt;00:00,  8.54it/s]"
      }
     },
     "ef88fe1b43aa464bb6d543bb546fcf8c": {
      "model_module": "@jupyter-widgets/controls",
      "model_module_version": "1.5.0",
      "model_name": "ProgressStyleModel",
      "state": {
       "description_width": ""
      }
     },
     "f543100e4e964d7c8df1501f276047a3": {
      "model_module": "@jupyter-widgets/controls",
      "model_module_version": "1.5.0",
      "model_name": "HTMLModel",
      "state": {
       "layout": "IPY_MODEL_9444c86b40424e5eb2960e3878d2caf9",
       "style": "IPY_MODEL_52f5a27798614991a0bdc9fc7cfa8169",
       "value": "100% 312/312 [00:18&lt;00:00, 16.86it/s]"
      }
     },
     "f82a0139a18b482ba8bfad94eca85d9e": {
      "model_module": "@jupyter-widgets/controls",
      "model_module_version": "1.5.0",
      "model_name": "DescriptionStyleModel",
      "state": {
       "description_width": ""
      }
     },
     "f9b1fc637fab4779a9bcec9e409f07be": {
      "model_module": "@jupyter-widgets/controls",
      "model_module_version": "1.5.0",
      "model_name": "HBoxModel",
      "state": {
       "children": [
        "IPY_MODEL_8fa306f6c04d4094969707681da78269",
        "IPY_MODEL_5be8d1e6865942fcac216a2775a48b85"
       ],
       "layout": "IPY_MODEL_ab89a7054fe04b34b470a2e6a3722b31"
      }
     },
     "fc9f1fb107f945168a8c0db5f791908a": {
      "model_module": "@jupyter-widgets/controls",
      "model_module_version": "1.5.0",
      "model_name": "ProgressStyleModel",
      "state": {
       "description_width": ""
      }
     }
    },
    "version_major": 2,
    "version_minor": 0
   }
  }
 },
 "nbformat": 4,
 "nbformat_minor": 4
}

{
 "cells": [
  {
   "cell_type": "code",
   "execution_count": 1,
   "metadata": {},
   "outputs": [],
   "source": [
    "from sklearn_crfsuite import CRF"
   ]
  },
  {
   "cell_type": "code",
   "execution_count": 2,
   "metadata": {},
   "outputs": [],
   "source": [
    "from DataProcess.model_utils import sent2features"
   ]
  },
  {
   "cell_type": "markdown",
   "metadata": {},
   "source": [
    "# 定义模型"
   ]
  },
  {
   "cell_type": "code",
   "execution_count": 3,
   "metadata": {},
   "outputs": [],
   "source": [
    "class CRFModel:\n",
    "    def __init__(self, algorithm='lbfgs', \n",
    "                c1=0.1, c2=0.1, max_iterations=100,\n",
    "                all_possible_transitions=False):\n",
    "        self.model = CRF(algorithm=algorithm,\n",
    "                        c1=c1, c2=c2,\n",
    "                        max_iterations=max_iterations,\n",
    "                        all_possible_transitions=all_possible_transitions)\n",
    "    \n",
    "    def train(self, sentences, tag_lists):\n",
    "        features = [sent2features(s) for s in sentences]\n",
    "        self.model.fit(features, tag_lists)\n",
    "    \n",
    "    def test(self, sentences):\n",
    "        features = [sent2features(s) for s in sentences]\n",
    "        pred_tag_lists = self.model.predict(features)\n",
    "        return pred_tag_lists"
   ]
  },
  {
   "cell_type": "markdown",
   "metadata": {},
   "source": [
    "# 读取数据"
   ]
  },
  {
   "cell_type": "code",
   "execution_count": 4,
   "metadata": {},
   "outputs": [],
   "source": [
    "from DataProcess.data import build_corpus"
   ]
  },
  {
   "cell_type": "code",
   "execution_count": 5,
   "metadata": {},
   "outputs": [],
   "source": [
    "train_word_lists, train_tag_lists, word2id, tag2id = build_corpus(\"train\")\n",
    "dev_word_lists, dev_tag_lists = build_corpus(\"dev\", make_vocab=False)\n",
    "test_word_lists, test_tag_lists = build_corpus(\"test\", make_vocab=False)"
   ]
  },
  {
   "cell_type": "markdown",
   "metadata": {},
   "source": [
    "# 训练模型"
   ]
  },
  {
   "cell_type": "code",
   "execution_count": 7,
   "metadata": {},
   "outputs": [],
   "source": [
    "from DataProcess.utils import save_model\n",
    "from DataProcess.evaluating import Metrics"
   ]
  },
  {
   "cell_type": "code",
   "execution_count": 8,
   "metadata": {},
   "outputs": [],
   "source": [
    "def crf_train_eval(train_data, test_data, remove_O=False):\n",
    "    # 训练CRF模型\n",
    "    train_word_lists, train_tag_lists = train_data\n",
    "    test_word_lists, test_tag_lists = test_data\n",
    "    \n",
    "    crf_model = CRFModel()\n",
    "    crf_model.train(train_word_lists, train_tag_lists)\n",
    "    \n",
    "    save_model(crf_model, \"./ckpts/crf.pkl\")\n",
    "    pred_tag_lists = crf_model.test(test_word_lists)\n",
    "    \n",
    "    metrics = Metrics(test_tag_lists, pred_tag_lists, remove_O=remove_O)\n",
    "    metrics.report_scores()\n",
    "    metrics.report_confusion_matrix()\n",
    "    return pred_tag_lists"
   ]
  },
  {
   "cell_type": "code",
   "execution_count": 9,
   "metadata": {},
   "outputs": [
    {
     "name": "stdout",
     "output_type": "stream",
     "text": [
      "           precision    recall  f1-score   support\n",
      "    M-LOC     1.0000    0.8095    0.8947        21\n",
      "    E-EDU     0.9910    0.9821    0.9865       112\n",
      "        O     0.9630    0.9732    0.9681      5190\n",
      "    B-LOC     1.0000    0.8333    0.9091         6\n",
      "  B-TITLE     0.9376    0.9339    0.9358       772\n",
      "   B-CONT     1.0000    1.0000    1.0000        28\n",
      "    B-EDU     0.9820    0.9732    0.9776       112\n",
      "   B-RACE     1.0000    1.0000    1.0000        14\n",
      "    B-ORG     0.9636    0.9566    0.9601       553\n",
      "   M-CONT     1.0000    1.0000    1.0000        53\n",
      "    B-PRO     0.9091    0.9091    0.9091        33\n",
      "    M-ORG     0.9523    0.9563    0.9543      4325\n",
      "   E-RACE     1.0000    1.0000    1.0000        14\n",
      "  E-TITLE     0.9857    0.9819    0.9838       772\n",
      "    M-EDU     0.9824    0.9330    0.9570       179\n",
      "   M-NAME     1.0000    0.9756    0.9877        82\n",
      "   B-NAME     1.0000    0.9821    0.9910       112\n",
      "    E-PRO     0.9091    0.9091    0.9091        33\n",
      "    M-PRO     0.8354    0.9706    0.8980        68\n",
      "   E-CONT     1.0000    1.0000    1.0000        28\n",
      "    E-ORG     0.9199    0.9132    0.9165       553\n",
      "    E-LOC     1.0000    0.8333    0.9091         6\n",
      "   E-NAME     1.0000    0.9821    0.9910       112\n",
      "  M-TITLE     0.9248    0.9022    0.9134      1922\n",
      "avg/total     0.9543    0.9543    0.9542     15100\n",
      "\n",
      "Confusion Matrix:\n",
      "          M-LOC   E-EDU       O   B-LOC B-TITLE  B-CONT   B-EDU  B-RACE   B-ORG  M-CONT   B-PRO   M-ORG  E-RACE E-TITLE   M-EDU  M-NAME  B-NAME   E-PRO   M-PRO  E-CONT   E-ORG   E-LOC  E-NAME M-TITLE \n",
      "  M-LOC      17       0       0       0       0       0       0       0       0       0       0       4       0       0       0       0       0       0       0       0       0       0       0       0 \n",
      "  E-EDU       0     110       0       0       0       0       0       0       0       0       0       1       0       0       0       0       0       1       0       0       0       0       0       0 \n",
      "      O       0       0    5051       0       6       0       0       0       9       0       0      75       0       5       0       0       0       0       0       0      11       0       0      33 \n",
      "  B-LOC       0       0       0       5       0       0       0       0       1       0       0       0       0       0       0       0       0       0       0       0       0       0       0       0 \n",
      "B-TITLE       0       0       9       0     721       0       0       0       7       0       1      12       0       0       0       0       0       0       0       0       0       0       0      22 \n",
      " B-CONT       0       0       0       0       0      28       0       0       0       0       0       0       0       0       0       0       0       0       0       0       0       0       0       0 \n",
      "  B-EDU       0       0       0       0       0       0     109       0       1       0       0       1       0       0       1       0       0       0       0       0       0       0       0       0 \n",
      " B-RACE       0       0       0       0       0       0       0      14       0       0       0       0       0       0       0       0       0       0       0       0       0       0       0       0 \n",
      "  B-ORG       0       0      11       0      12       0       0       0     529       0       0       1       0       0       0       0       0       0       0       0       0       0       0       0 \n",
      " M-CONT       0       0       0       0       0       0       0       0       0      53       0       0       0       0       0       0       0       0       0       0       0       0       0       0 \n",
      "  B-PRO       0       0       0       0       0       0       1       0       0       0      30       1       0       0       0       0       0       0       1       0       0       0       0       0 \n",
      "  M-ORG       0       0      91       0      11       0       0       0       1       0       1    4136       0       2       0       0       0       1       5       0      12       0       0      65 \n",
      " E-RACE       0       0       0       0       0       0       0       0       0       0       0       0      14       0       0       0       0       0       0       0       0       0       0       0 \n",
      "E-TITLE       0       1       9       0       0       0       0       0       0       0       0       2       0     758       0       0       0       0       0       0       1       0       0       1 \n",
      "  M-EDU       0       0       1       0       0       0       0       0       0       0       1       5       0       0     167       0       0       0       4       0       1       0       0       0 \n",
      " M-NAME       0       0       2       0       0       0       0       0       0       0       0       0       0       0       0      80       0       0       0       0       0       0       0       0 \n",
      " B-NAME       0       0       2       0       0       0       0       0       0       0       0       0       0       0       0       0     110       0       0       0       0       0       0       0 \n",
      "  E-PRO       0       0       0       0       0       0       0       0       0       0       0       0       0       0       1       0       0      30       1       0       1       0       0       0 \n",
      "  M-PRO       0       0       0       0       0       0       0       0       0       0       0       2       0       0       0       0       0       0      66       0       0       0       0       0 \n",
      " E-CONT       0       0       0       0       0       0       0       0       0       0       0       0       0       0       0       0       0       0       0      28       0       0       0       0 \n",
      "  E-ORG       0       0      13       0       0       0       0       0       0       0       0      14       0       1       0       0       0       0       0       0     505       0       0      20 \n",
      "  E-LOC       0       0       0       0       0       0       0       0       0       0       0       0       0       0       0       0       0       0       0       0       1       5       0       0 \n",
      " E-NAME       0       0       2       0       0       0       0       0       0       0       0       0       0       0       0       0       0       0       0       0       0       0     110       0 \n",
      "M-TITLE       0       0      54       0      19       0       1       0       1       0       0      89       0       3       1       0       0       1       2       0      17       0       0    1734 \n"
     ]
    }
   ],
   "source": [
    "crf_pred = crf_train_eval((train_word_lists, train_tag_lists), \n",
    "                         (test_word_lists, test_tag_lists))"
   ]
  },
  {
   "cell_type": "code",
   "execution_count": null,
   "metadata": {},
   "outputs": [],
   "source": []
  }
 ],
 "metadata": {
  "kernelspec": {
   "display_name": "Python [conda env:torch_test]",
   "language": "python",
   "name": "conda-env-torch_test-py"
  },
  "language_info": {
   "codemirror_mode": {
    "name": "ipython",
    "version": 3
   },
   "file_extension": ".py",
   "mimetype": "text/x-python",
   "name": "python",
   "nbconvert_exporter": "python",
   "pygments_lexer": "ipython3",
   "version": "3.7.4"
  }
 },
 "nbformat": 4,
 "nbformat_minor": 4
}
